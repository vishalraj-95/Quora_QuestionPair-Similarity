{
 "cells": [
  {
   "cell_type": "markdown",
   "metadata": {
    "colab_type": "text",
    "id": "jcB8JS-_s5Vq"
   },
   "source": [
    "![Quora-1.png](attachment:Quora-1.png)"
   ]
  },
  {
   "cell_type": "markdown",
   "metadata": {
    "colab_type": "text",
    "id": "J6rnhr2Xs5Vs"
   },
   "source": [
    "<h1 style=\"text-align:center;font-size:30px;\" > Quora Question Pairs </h1>"
   ]
  },
  {
   "cell_type": "markdown",
   "metadata": {
    "colab_type": "text",
    "id": "o9fciGc7s5Vu"
   },
   "source": [
    "<h1> 1. Business Problem </h1>"
   ]
  },
  {
   "cell_type": "markdown",
   "metadata": {
    "colab_type": "text",
    "id": "LRzmxjKxs5Vw"
   },
   "source": [
    "<h2> 1.1 Description </h2>"
   ]
  },
  {
   "cell_type": "markdown",
   "metadata": {
    "colab_type": "text",
    "id": "1nlaIYe9s5Vx"
   },
   "source": [
    "<p>Quora is a place to gain and share knowledge—about anything. It’s a platform to ask questions and connect with people who contribute unique insights and quality answers. This empowers people to learn from each other and to better understand the world.</p>\n",
    "<p>\n",
    "Over 100 million people visit Quora every month, so it's no surprise that many people ask similarly worded questions. Multiple questions with the same intent can cause seekers to spend more time finding the best answer to their question, and make writers feel they need to answer multiple versions of the same question. Quora values canonical questions because they provide a better experience to active seekers and writers, and offer more value to both of these groups in the long term.\n",
    "</p>\n",
    "<br>\n",
    "> Credits: Kaggle \n"
   ]
  },
  {
   "cell_type": "markdown",
   "metadata": {
    "colab_type": "text",
    "id": "wdWP5SdFs5Vy"
   },
   "source": [
    "__ Problem Statement __\n",
    "- Identify which questions asked on Quora are duplicates of questions that have already been asked. \n",
    "- This could be useful to instantly provide answers to questions that have already been answered. \n",
    "- We are tasked with predicting whether a pair of questions are duplicates or not. "
   ]
  },
  {
   "cell_type": "markdown",
   "metadata": {
    "colab_type": "text",
    "id": "34hYn911s5V0"
   },
   "source": [
    "<h2> 1.2 Sources/Useful Links</h2>"
   ]
  },
  {
   "cell_type": "markdown",
   "metadata": {
    "colab_type": "text",
    "id": "7YIjqVPgs5V4"
   },
   "source": [
    "- Source : https://www.kaggle.com/c/quora-question-pairs\n",
    "<br><br>____ Useful Links ____\n",
    "- Discussions : https://www.kaggle.com/anokas/data-analysis-xgboost-starter-0-35460-lb/comments\n",
    "- Kaggle Winning Solution and other approaches: https://www.dropbox.com/sh/93968nfnrzh8bp5/AACZdtsApc1QSTQc7X0H3QZ5a?dl=0\n",
    "- Blog 1 : https://engineering.quora.com/Semantic-Question-Matching-with-Deep-Learning\n",
    "- Blog 2 : https://towardsdatascience.com/identifying-duplicate-questions-on-quora-top-12-on-kaggle-4c1cf93f1c30"
   ]
  },
  {
   "cell_type": "markdown",
   "metadata": {
    "colab_type": "text",
    "id": "jlNRUR4Ws5V5"
   },
   "source": [
    "<h2>1.3 Real world/Business Objectives and Constraints </h2>"
   ]
  },
  {
   "cell_type": "markdown",
   "metadata": {
    "colab_type": "text",
    "id": "Hv6fd7txs5V7"
   },
   "source": [
    "1. The cost of a mis-classification can be very high.\n",
    "2. You would want a probability of a pair of questions to be duplicates so that you can choose any threshold of choice.\n",
    "3. No strict latency concerns.\n",
    "4. Interpretability is partially important."
   ]
  },
  {
   "cell_type": "markdown",
   "metadata": {
    "colab_type": "text",
    "id": "VIam5Aaks5V9"
   },
   "source": [
    "<h1>2. Machine Learning Probelm </h1>"
   ]
  },
  {
   "cell_type": "markdown",
   "metadata": {
    "colab_type": "text",
    "id": "jnty9Bhls5V-"
   },
   "source": [
    "<h2> 2.1 Data </h2>"
   ]
  },
  {
   "cell_type": "code",
   "execution_count": 4,
   "metadata": {},
   "outputs": [
    {
     "name": "stdout",
     "output_type": "stream",
     "text": [
      "Collecting distance\n",
      "  Downloading Distance-0.1.3.tar.gz (180 kB)\n",
      "Building wheels for collected packages: distance\n",
      "  Building wheel for distance (setup.py): started\n",
      "  Building wheel for distance (setup.py): finished with status 'done'\n",
      "  Created wheel for distance: filename=Distance-0.1.3-py3-none-any.whl size=16265 sha256=ef441e319fc194ae7536dbf55791683cffb1a4645752b2ecdc99e67331381c3f\n",
      "  Stored in directory: c:\\users\\vishal\\appdata\\local\\pip\\cache\\wheels\\b2\\10\\1b\\96fca621a1be378e2fe104cfb0d160bb6cdf3d04a3d35266cc\n",
      "Successfully built distance\n",
      "Installing collected packages: distance\n",
      "Successfully installed distance-0.1.3\n"
     ]
    }
   ],
   "source": [
    "#!pip install plotly\n",
    "!pip install distance\n"
   ]
  },
  {
   "cell_type": "markdown",
   "metadata": {
    "colab_type": "text",
    "id": "rty1PZv3s5V_"
   },
   "source": [
    "<h3> 2.1.1 Data Overview </h3>"
   ]
  },
  {
   "cell_type": "markdown",
   "metadata": {
    "colab_type": "text",
    "id": "-gu8pAt3s5WB"
   },
   "source": [
    "<p> \n",
    "- Data will be in a file Train.csv <br>\n",
    "- Train.csv contains 5 columns : qid1, qid2, question1, question2, is_duplicate <br>\n",
    "- Size of Train.csv - 60MB <br>\n",
    "- Number of rows in Train.csv = 404,290\n",
    "</p>"
   ]
  },
  {
   "cell_type": "markdown",
   "metadata": {
    "colab_type": "text",
    "id": "v9grbSNds5WC"
   },
   "source": [
    "<h3> 2.1.2 Example Data point </h3>"
   ]
  },
  {
   "cell_type": "markdown",
   "metadata": {
    "colab_type": "text",
    "id": "9WEQ-lSxs5WE"
   },
   "source": [
    "<pre>\n",
    "\"id\",\"qid1\",\"qid2\",\"question1\",\"question2\",\"is_duplicate\"\n",
    "\"0\",\"1\",\"2\",\"What is the step by step guide to invest in share market in india?\",\"What is the step by step guide to invest in share market?\",\"0\"\n",
    "\"1\",\"3\",\"4\",\"What is the story of Kohinoor (Koh-i-Noor) Diamond?\",\"What would happen if the Indian government stole the Kohinoor (Koh-i-Noor) diamond back?\",\"0\"\n",
    "\"7\",\"15\",\"16\",\"How can I be a good geologist?\",\"What should I do to be a great geologist?\",\"1\"\n",
    "\"11\",\"23\",\"24\",\"How do I read and find my YouTube comments?\",\"How can I see all my Youtube comments?\",\"1\"\n",
    "</pre>"
   ]
  },
  {
   "cell_type": "markdown",
   "metadata": {
    "colab_type": "text",
    "id": "9qPVfeEjs5WF"
   },
   "source": [
    "<h2> 2.2 Mapping the real world problem to an ML problem </h2>"
   ]
  },
  {
   "cell_type": "markdown",
   "metadata": {
    "colab_type": "text",
    "id": "JfBn0LYPs5WI"
   },
   "source": [
    "<h3> 2.2.1 Type of Machine Leaning Problem </h3>"
   ]
  },
  {
   "cell_type": "markdown",
   "metadata": {
    "colab_type": "text",
    "id": "QEqiUD_Ps5WJ"
   },
   "source": [
    "<p> It is a binary classification problem, for a given pair of questions we need to predict if they are duplicate or not. </p>"
   ]
  },
  {
   "cell_type": "markdown",
   "metadata": {
    "colab_type": "text",
    "id": "keZOL1las5WL"
   },
   "source": [
    "<h3> 2.2.2 Performance Metric </h3>"
   ]
  },
  {
   "cell_type": "markdown",
   "metadata": {
    "colab_type": "text",
    "id": "YHktaBrMs5WN"
   },
   "source": [
    "Source: https://www.kaggle.com/c/quora-question-pairs#evaluation\n",
    "\n",
    "Metric(s): \n",
    "* log-loss : https://www.kaggle.com/wiki/LogarithmicLoss\n",
    "* Binary Confusion Matrix"
   ]
  },
  {
   "cell_type": "markdown",
   "metadata": {
    "colab_type": "text",
    "id": "FmDMBWJjs5WO"
   },
   "source": [
    "<h2> 2.3 Train and Test Construction </h2>"
   ]
  },
  {
   "cell_type": "markdown",
   "metadata": {
    "colab_type": "text",
    "id": "l7PcvKQss5WQ"
   },
   "source": [
    "<p>  </p>\n",
    "<p> We build train and test by randomly splitting in the ratio of 70:30 or 80:20 whatever we choose as we have sufficient points to work with. </p>"
   ]
  },
  {
   "cell_type": "markdown",
   "metadata": {
    "colab_type": "text",
    "id": "cW_MVIlps5WQ"
   },
   "source": [
    "<h1>3. Exploratory Data Analysis </h1>"
   ]
  },
  {
   "cell_type": "code",
   "execution_count": 5,
   "metadata": {
    "colab": {},
    "colab_type": "code",
    "id": "sNzZdmBJs5WS",
    "outputId": "0e1df4ed-4a74-4b0e-e84e-1b3862bbf55d"
   },
   "outputs": [
    {
     "data": {
      "text/html": [
       "        <script type=\"text/javascript\">\n",
       "        window.PlotlyConfig = {MathJaxConfig: 'local'};\n",
       "        if (window.MathJax) {MathJax.Hub.Config({SVG: {font: \"STIX-Web\"}});}\n",
       "        if (typeof require !== 'undefined') {\n",
       "        require.undef(\"plotly\");\n",
       "        requirejs.config({\n",
       "            paths: {\n",
       "                'plotly': ['https://cdn.plot.ly/plotly-latest.min']\n",
       "            }\n",
       "        });\n",
       "        require(['plotly'], function(Plotly) {\n",
       "            window._Plotly = Plotly;\n",
       "        });\n",
       "        }\n",
       "        </script>\n",
       "        "
      ]
     },
     "metadata": {},
     "output_type": "display_data"
    }
   ],
   "source": [
    "import numpy as np\n",
    "import pandas as pd\n",
    "import seaborn as sns\n",
    "import matplotlib.pyplot as plt\n",
    "from subprocess import check_output\n",
    "%matplotlib inline\n",
    "import plotly.offline as py\n",
    "py.init_notebook_mode(connected=True)\n",
    "import plotly.graph_objs as go\n",
    "import plotly.tools as tls\n",
    "import os\n",
    "import gc\n",
    "\n",
    "import re\n",
    "from nltk.corpus import stopwords\n",
    "import distance\n",
    "from nltk.stem import PorterStemmer\n",
    "from bs4 import BeautifulSoup"
   ]
  },
  {
   "cell_type": "markdown",
   "metadata": {
    "colab_type": "text",
    "id": "__T8jddGs5Wc"
   },
   "source": [
    "<h2> 3.1 Reading data and basic stats </h2>"
   ]
  },
  {
   "cell_type": "code",
   "execution_count": 6,
   "metadata": {
    "colab": {},
    "colab_type": "code",
    "id": "ifM_s9rvs5Wd",
    "outputId": "2e17a7bc-9a5b-4c43-d35b-081cc9f92528"
   },
   "outputs": [
    {
     "name": "stdout",
     "output_type": "stream",
     "text": [
      "Number of data points: 404290\n"
     ]
    }
   ],
   "source": [
    "df = pd.read_csv(\"train.csv\")\n",
    "\n",
    "print(\"Number of data points:\",df.shape[0])"
   ]
  },
  {
   "cell_type": "code",
   "execution_count": 7,
   "metadata": {
    "colab": {},
    "colab_type": "code",
    "id": "34zXGW8gs5Wj",
    "outputId": "ab7d570a-9eeb-477a-b7cb-663ff6fd04fa"
   },
   "outputs": [
    {
     "data": {
      "text/html": [
       "<div>\n",
       "<style scoped>\n",
       "    .dataframe tbody tr th:only-of-type {\n",
       "        vertical-align: middle;\n",
       "    }\n",
       "\n",
       "    .dataframe tbody tr th {\n",
       "        vertical-align: top;\n",
       "    }\n",
       "\n",
       "    .dataframe thead th {\n",
       "        text-align: right;\n",
       "    }\n",
       "</style>\n",
       "<table border=\"1\" class=\"dataframe\">\n",
       "  <thead>\n",
       "    <tr style=\"text-align: right;\">\n",
       "      <th></th>\n",
       "      <th>id</th>\n",
       "      <th>qid1</th>\n",
       "      <th>qid2</th>\n",
       "      <th>question1</th>\n",
       "      <th>question2</th>\n",
       "      <th>is_duplicate</th>\n",
       "    </tr>\n",
       "  </thead>\n",
       "  <tbody>\n",
       "    <tr>\n",
       "      <th>0</th>\n",
       "      <td>0</td>\n",
       "      <td>1</td>\n",
       "      <td>2</td>\n",
       "      <td>What is the step by step guide to invest in sh...</td>\n",
       "      <td>What is the step by step guide to invest in sh...</td>\n",
       "      <td>0</td>\n",
       "    </tr>\n",
       "    <tr>\n",
       "      <th>1</th>\n",
       "      <td>1</td>\n",
       "      <td>3</td>\n",
       "      <td>4</td>\n",
       "      <td>What is the story of Kohinoor (Koh-i-Noor) Dia...</td>\n",
       "      <td>What would happen if the Indian government sto...</td>\n",
       "      <td>0</td>\n",
       "    </tr>\n",
       "    <tr>\n",
       "      <th>2</th>\n",
       "      <td>2</td>\n",
       "      <td>5</td>\n",
       "      <td>6</td>\n",
       "      <td>How can I increase the speed of my internet co...</td>\n",
       "      <td>How can Internet speed be increased by hacking...</td>\n",
       "      <td>0</td>\n",
       "    </tr>\n",
       "    <tr>\n",
       "      <th>3</th>\n",
       "      <td>3</td>\n",
       "      <td>7</td>\n",
       "      <td>8</td>\n",
       "      <td>Why am I mentally very lonely? How can I solve...</td>\n",
       "      <td>Find the remainder when [math]23^{24}[/math] i...</td>\n",
       "      <td>0</td>\n",
       "    </tr>\n",
       "    <tr>\n",
       "      <th>4</th>\n",
       "      <td>4</td>\n",
       "      <td>9</td>\n",
       "      <td>10</td>\n",
       "      <td>Which one dissolve in water quikly sugar, salt...</td>\n",
       "      <td>Which fish would survive in salt water?</td>\n",
       "      <td>0</td>\n",
       "    </tr>\n",
       "  </tbody>\n",
       "</table>\n",
       "</div>"
      ],
      "text/plain": [
       "   id  qid1  qid2                                          question1  \\\n",
       "0   0     1     2  What is the step by step guide to invest in sh...   \n",
       "1   1     3     4  What is the story of Kohinoor (Koh-i-Noor) Dia...   \n",
       "2   2     5     6  How can I increase the speed of my internet co...   \n",
       "3   3     7     8  Why am I mentally very lonely? How can I solve...   \n",
       "4   4     9    10  Which one dissolve in water quikly sugar, salt...   \n",
       "\n",
       "                                           question2  is_duplicate  \n",
       "0  What is the step by step guide to invest in sh...             0  \n",
       "1  What would happen if the Indian government sto...             0  \n",
       "2  How can Internet speed be increased by hacking...             0  \n",
       "3  Find the remainder when [math]23^{24}[/math] i...             0  \n",
       "4            Which fish would survive in salt water?             0  "
      ]
     },
     "execution_count": 7,
     "metadata": {},
     "output_type": "execute_result"
    }
   ],
   "source": [
    "df.head()"
   ]
  },
  {
   "cell_type": "code",
   "execution_count": 8,
   "metadata": {
    "colab": {},
    "colab_type": "code",
    "id": "mx4DFwMns5Wp",
    "outputId": "1141e0bb-2750-489e-8b8c-2ba680f7416c"
   },
   "outputs": [
    {
     "name": "stdout",
     "output_type": "stream",
     "text": [
      "<class 'pandas.core.frame.DataFrame'>\n",
      "RangeIndex: 404290 entries, 0 to 404289\n",
      "Data columns (total 6 columns):\n",
      " #   Column        Non-Null Count   Dtype \n",
      "---  ------        --------------   ----- \n",
      " 0   id            404290 non-null  int64 \n",
      " 1   qid1          404290 non-null  int64 \n",
      " 2   qid2          404290 non-null  int64 \n",
      " 3   question1     404289 non-null  object\n",
      " 4   question2     404288 non-null  object\n",
      " 5   is_duplicate  404290 non-null  int64 \n",
      "dtypes: int64(4), object(2)\n",
      "memory usage: 18.5+ MB\n"
     ]
    }
   ],
   "source": [
    "df.info()"
   ]
  },
  {
   "cell_type": "markdown",
   "metadata": {
    "colab_type": "text",
    "id": "HHHTGTzws5Ww"
   },
   "source": [
    "We are given a minimal number of data fields here, consisting of:\n",
    "\n",
    "- id:  Looks like a simple rowID\n",
    "- qid{1, 2}:  The unique ID of each question in the pair\n",
    "- question{1, 2}:  The actual textual contents of the questions.\n",
    "- is_duplicate:  The label that we are trying to predict - whether the two questions are duplicates of each other."
   ]
  },
  {
   "cell_type": "markdown",
   "metadata": {
    "colab_type": "text",
    "id": "ZulqVzTDs5Wx"
   },
   "source": [
    "<h3> 3.2.1 Distribution of data points among output classes</h3>\n",
    "- Number of duplicate(smilar) and non-duplicate(non similar) questions"
   ]
  },
  {
   "cell_type": "code",
   "execution_count": 9,
   "metadata": {
    "colab": {},
    "colab_type": "code",
    "id": "YHp64yNjs5Wx",
    "outputId": "361ddf04-d545-45f9-dbe2-8bebd695e8da"
   },
   "outputs": [
    {
     "data": {
      "text/plain": [
       "<matplotlib.axes._subplots.AxesSubplot at 0x27e3ab16a08>"
      ]
     },
     "execution_count": 9,
     "metadata": {},
     "output_type": "execute_result"
    },
    {
     "data": {
      "image/png": "[encoded data removed]",
      "text/plain": [
       "<Figure size 432x288 with 1 Axes>"
      ]
     },
     "metadata": {
      "needs_background": "light"
     },
     "output_type": "display_data"
    }
   ],
   "source": [
    "df.groupby(\"is_duplicate\")['id'].count().plot.bar()"
   ]
  },
  {
   "cell_type": "code",
   "execution_count": 10,
   "metadata": {
    "colab": {},
    "colab_type": "code",
    "id": "-usI2K2bs5W4",
    "outputId": "ff0a6a8b-65ad-487a-d5ec-df3c223ba620"
   },
   "outputs": [
    {
     "name": "stdout",
     "output_type": "stream",
     "text": [
      "~> Total number of question pairs for training:\n",
      "   404290\n"
     ]
    }
   ],
   "source": [
    "print('~> Total number of question pairs for training:\\n   {}'.format(len(df)))"
   ]
  },
  {
   "cell_type": "code",
   "execution_count": 11,
   "metadata": {
    "colab": {},
    "colab_type": "code",
    "id": "YiPia6Pjs5W_",
    "outputId": "3cde4cec-4314-4c14-e807-b35e969bf9e8"
   },
   "outputs": [
    {
     "name": "stdout",
     "output_type": "stream",
     "text": [
      "~> Question pairs are not Similar (is_duplicate = 0):\n",
      "   63.08%\n",
      "\n",
      "~> Question pairs are Similar (is_duplicate = 1):\n",
      "   36.92%\n"
     ]
    }
   ],
   "source": [
    "print('~> Question pairs are not Similar (is_duplicate = 0):\\n   {}%'.format(100 - round(df['is_duplicate'].mean()*100, 2)))\n",
    "print('\\n~> Question pairs are Similar (is_duplicate = 1):\\n   {}%'.format(round(df['is_duplicate'].mean()*100, 2)))"
   ]
  },
  {
   "cell_type": "markdown",
   "metadata": {
    "colab_type": "text",
    "id": "wGX03QVRs5XF"
   },
   "source": [
    "<h3> 3.2.2 Number of unique questions </h3>"
   ]
  },
  {
   "cell_type": "code",
   "execution_count": 12,
   "metadata": {
    "colab": {},
    "colab_type": "code",
    "id": "VOKa6aU2s5XG",
    "outputId": "8f644b1d-27c0-4d63-84e2-bb2a42419be2"
   },
   "outputs": [
    {
     "name": "stdout",
     "output_type": "stream",
     "text": [
      "Total number of  Unique Questions are: 537933\n",
      "\n",
      "Number of unique questions that appear more than one time: 111780 (20.77953945937505%)\n",
      "\n",
      "Max number of times a single question is repeated: 157\n",
      "\n"
     ]
    }
   ],
   "source": [
    "qids = pd.Series(df['qid1'].tolist() + df['qid2'].tolist())\n",
    "unique_qs = len(np.unique(qids))\n",
    "qs_morethan_onetime = np.sum(qids.value_counts() > 1)\n",
    "print ('Total number of  Unique Questions are: {}\\n'.format(unique_qs))\n",
    "#print len(np.unique(qids))\n",
    "\n",
    "print ('Number of unique questions that appear more than one time: {} ({}%)\\n'.format(qs_morethan_onetime,qs_morethan_onetime/unique_qs*100))\n",
    "\n",
    "print ('Max number of times a single question is repeated: {}\\n'.format(max(qids.value_counts()))) \n",
    "\n",
    "q_vals=qids.value_counts()\n",
    "\n",
    "q_vals=q_vals.values"
   ]
  },
  {
   "cell_type": "code",
   "execution_count": 0,
   "metadata": {
    "colab": {},
    "colab_type": "code",
    "id": "plcvbd4Cs5XM",
    "outputId": "8e137cc1-e0c4-44f4-9cc2-703302206d4f"
   },
   "outputs": [
    {
     "data": {
      "image/png": "[encoded data removed]",
      "text/plain": [
       "<matplotlib.figure.Figure at 0x22b00c2ceb8>"
      ]
     },
     "metadata": {
      "tags": []
     },
     "output_type": "display_data"
    }
   ],
   "source": [
    "\n",
    "x = [\"unique_questions\" , \"Repeated Questions\"]\n",
    "y =  [unique_qs , qs_morethan_onetime]\n",
    "\n",
    "plt.figure(figsize=(10, 6))\n",
    "plt.title (\"Plot representing unique and repeated questions  \")\n",
    "sns.barplot(x,y)\n",
    "plt.show()"
   ]
  },
  {
   "cell_type": "markdown",
   "metadata": {
    "colab_type": "text",
    "id": "G-CwGaMms5XS"
   },
   "source": [
    "<h3>3.2.3 Checking for Duplicates </h3>"
   ]
  },
  {
   "cell_type": "code",
   "execution_count": 13,
   "metadata": {
    "colab": {},
    "colab_type": "code",
    "id": "YCiDBHm5s5XT",
    "outputId": "d8011926-4086-4c9a-9fcf-59663a584ec4"
   },
   "outputs": [
    {
     "name": "stdout",
     "output_type": "stream",
     "text": [
      "Number of duplicate questions 0\n"
     ]
    }
   ],
   "source": [
    "#checking whether there are any repeated pair of questions\n",
    "\n",
    "pair_duplicates = df[['qid1','qid2','is_duplicate']].groupby(['qid1','qid2']).count().reset_index()\n",
    "\n",
    "print (\"Number of duplicate questions\",(pair_duplicates).shape[0] - df.shape[0])"
   ]
  },
  {
   "cell_type": "markdown",
   "metadata": {
    "colab_type": "text",
    "id": "iaHTnnt8s5XX"
   },
   "source": [
    "<h3> 3.2.4 Number of occurrences of each question </h3>"
   ]
  },
  {
   "cell_type": "code",
   "execution_count": 14,
   "metadata": {
    "colab": {},
    "colab_type": "code",
    "id": "dPZwk-C8s5Xa",
    "outputId": "0d6d5978-2306-4ed3-cf27-f2a0b974e47d"
   },
   "outputs": [
    {
     "name": "stdout",
     "output_type": "stream",
     "text": [
      "Maximum number of times a single question is repeated: 157\n",
      "\n"
     ]
    },
    {
     "data": {
      "image/png": "[encoded data removed]",
      "text/plain": [
       "<Figure size 1440x720 with 1 Axes>"
      ]
     },
     "metadata": {
      "needs_background": "light"
     },
     "output_type": "display_data"
    }
   ],
   "source": [
    "plt.figure(figsize=(20, 10))\n",
    "\n",
    "plt.hist(qids.value_counts(), bins=160)\n",
    "\n",
    "plt.yscale('log', nonposy='clip')\n",
    "\n",
    "plt.title('Log-Histogram of question appearance counts')\n",
    "\n",
    "plt.xlabel('Number of occurences of question')\n",
    "\n",
    "plt.ylabel('Number of questions')\n",
    "\n",
    "print ('Maximum number of times a single question is repeated: {}\\n'.format(max(qids.value_counts()))) "
   ]
  },
  {
   "cell_type": "markdown",
   "metadata": {
    "colab_type": "text",
    "id": "h_WdYxlYs5Xj"
   },
   "source": [
    "<h3> 3.2.5 Checking for NULL values </h3>"
   ]
  },
  {
   "cell_type": "code",
   "execution_count": 15,
   "metadata": {
    "colab": {},
    "colab_type": "code",
    "id": "r0x1gR2fs5Xk",
    "outputId": "721aef48-e628-40c6-d567-25466f4283e1"
   },
   "outputs": [
    {
     "name": "stdout",
     "output_type": "stream",
     "text": [
      "            id    qid1    qid2                         question1  \\\n",
      "105780  105780  174363  174364    How can I develop android app?   \n",
      "201841  201841  303951  174364  How can I create an Android app?   \n",
      "363362  363362  493340  493341                               NaN   \n",
      "\n",
      "                                                question2  is_duplicate  \n",
      "105780                                                NaN             0  \n",
      "201841                                                NaN             0  \n",
      "363362  My Chinese name is Haichao Yu. What English na...             0  \n"
     ]
    }
   ],
   "source": [
    "#Checking whether there are any rows with null values\n",
    "nan_rows = df[df.isnull().any(1)]\n",
    "print (nan_rows)"
   ]
  },
  {
   "cell_type": "markdown",
   "metadata": {
    "colab_type": "text",
    "id": "CCYmufv6s5Xo"
   },
   "source": [
    "- There are two rows with null values in question2 "
   ]
  },
  {
   "cell_type": "code",
   "execution_count": 16,
   "metadata": {
    "colab": {},
    "colab_type": "code",
    "id": "yLBRyACgs5Xp",
    "outputId": "076046a9-1510-41ef-cf98-15b38661dca4"
   },
   "outputs": [
    {
     "name": "stdout",
     "output_type": "stream",
     "text": [
      "Empty DataFrame\n",
      "Columns: [id, qid1, qid2, question1, question2, is_duplicate]\n",
      "Index: []\n"
     ]
    }
   ],
   "source": [
    "# Filling the null values with ' '\n",
    "df = df.fillna('')\n",
    "nan_rows = df[df.isnull().any(1)]\n",
    "print (nan_rows)"
   ]
  },
  {
   "cell_type": "markdown",
   "metadata": {
    "colab_type": "text",
    "id": "l9Qcl5xfs5Xs"
   },
   "source": [
    "<h2>3.3 Basic Feature Extraction (before cleaning) </h2>"
   ]
  },
  {
   "cell_type": "markdown",
   "metadata": {
    "colab_type": "text",
    "id": "RRzvPYzGs5Xu"
   },
   "source": [
    "Let us now construct a few features like:\n",
    " - ____freq_qid1____ = Frequency of qid1's\n",
    " - ____freq_qid2____ = Frequency of qid2's \n",
    " - ____q1len____ = Length of q1\n",
    " - ____q2len____ = Length of q2\n",
    " - ____q1_n_words____ = Number of words in Question 1\n",
    " - ____q2_n_words____ = Number of words in Question 2\n",
    " - ____word_Common____ = (Number of common unique words in Question 1 and Question 2)\n",
    " - ____word_Total____ =(Total num of words in Question 1 + Total num of words in Question 2)\n",
    " - ____word_share____ = (word_common)/(word_Total)\n",
    " - ____freq_q1+freq_q2____ = sum total of frequency of qid1 and qid2 \n",
    " - ____freq_q1-freq_q2____ = absolute difference of frequency of qid1 and qid2 "
   ]
  },
  {
   "cell_type": "code",
   "execution_count": 26,
   "metadata": {
    "colab": {},
    "colab_type": "code",
    "id": "Iq4DZ-rYs5Xv",
    "outputId": "d34e66da-d84b-49ea-8852-4beb9da688ba"
   },
   "outputs": [
    {
     "data": {
      "text/html": [
       "<div>\n",
       "<style scoped>\n",
       "    .dataframe tbody tr th:only-of-type {\n",
       "        vertical-align: middle;\n",
       "    }\n",
       "\n",
       "    .dataframe tbody tr th {\n",
       "        vertical-align: top;\n",
       "    }\n",
       "\n",
       "    .dataframe thead th {\n",
       "        text-align: right;\n",
       "    }\n",
       "</style>\n",
       "<table border=\"1\" class=\"dataframe\">\n",
       "  <thead>\n",
       "    <tr style=\"text-align: right;\">\n",
       "      <th></th>\n",
       "      <th>id</th>\n",
       "      <th>qid1</th>\n",
       "      <th>qid2</th>\n",
       "      <th>question1</th>\n",
       "      <th>question2</th>\n",
       "      <th>is_duplicate</th>\n",
       "      <th>freq_qid1</th>\n",
       "      <th>freq_qid2</th>\n",
       "      <th>q1len</th>\n",
       "      <th>q2len</th>\n",
       "      <th>q1_n_words</th>\n",
       "      <th>q2_n_words</th>\n",
       "      <th>word_Common</th>\n",
       "      <th>word_Total</th>\n",
       "      <th>word_share</th>\n",
       "      <th>freq_q1+q2</th>\n",
       "      <th>freq_q1-q2</th>\n",
       "    </tr>\n",
       "  </thead>\n",
       "  <tbody>\n",
       "    <tr>\n",
       "      <th>0</th>\n",
       "      <td>0</td>\n",
       "      <td>1</td>\n",
       "      <td>2</td>\n",
       "      <td>What is the step by step guide to invest in sh...</td>\n",
       "      <td>What is the step by step guide to invest in sh...</td>\n",
       "      <td>0</td>\n",
       "      <td>1</td>\n",
       "      <td>1</td>\n",
       "      <td>66</td>\n",
       "      <td>57</td>\n",
       "      <td>14</td>\n",
       "      <td>12</td>\n",
       "      <td>10.0</td>\n",
       "      <td>23.0</td>\n",
       "      <td>0.434783</td>\n",
       "      <td>2</td>\n",
       "      <td>0</td>\n",
       "    </tr>\n",
       "    <tr>\n",
       "      <th>1</th>\n",
       "      <td>1</td>\n",
       "      <td>3</td>\n",
       "      <td>4</td>\n",
       "      <td>What is the story of Kohinoor (Koh-i-Noor) Dia...</td>\n",
       "      <td>What would happen if the Indian government sto...</td>\n",
       "      <td>0</td>\n",
       "      <td>4</td>\n",
       "      <td>1</td>\n",
       "      <td>51</td>\n",
       "      <td>88</td>\n",
       "      <td>8</td>\n",
       "      <td>13</td>\n",
       "      <td>4.0</td>\n",
       "      <td>20.0</td>\n",
       "      <td>0.200000</td>\n",
       "      <td>5</td>\n",
       "      <td>3</td>\n",
       "    </tr>\n",
       "    <tr>\n",
       "      <th>2</th>\n",
       "      <td>2</td>\n",
       "      <td>5</td>\n",
       "      <td>6</td>\n",
       "      <td>How can I increase the speed of my internet co...</td>\n",
       "      <td>How can Internet speed be increased by hacking...</td>\n",
       "      <td>0</td>\n",
       "      <td>1</td>\n",
       "      <td>1</td>\n",
       "      <td>73</td>\n",
       "      <td>59</td>\n",
       "      <td>14</td>\n",
       "      <td>10</td>\n",
       "      <td>4.0</td>\n",
       "      <td>24.0</td>\n",
       "      <td>0.166667</td>\n",
       "      <td>2</td>\n",
       "      <td>0</td>\n",
       "    </tr>\n",
       "    <tr>\n",
       "      <th>3</th>\n",
       "      <td>3</td>\n",
       "      <td>7</td>\n",
       "      <td>8</td>\n",
       "      <td>Why am I mentally very lonely? How can I solve...</td>\n",
       "      <td>Find the remainder when [math]23^{24}[/math] i...</td>\n",
       "      <td>0</td>\n",
       "      <td>1</td>\n",
       "      <td>1</td>\n",
       "      <td>50</td>\n",
       "      <td>65</td>\n",
       "      <td>11</td>\n",
       "      <td>9</td>\n",
       "      <td>0.0</td>\n",
       "      <td>19.0</td>\n",
       "      <td>0.000000</td>\n",
       "      <td>2</td>\n",
       "      <td>0</td>\n",
       "    </tr>\n",
       "    <tr>\n",
       "      <th>4</th>\n",
       "      <td>4</td>\n",
       "      <td>9</td>\n",
       "      <td>10</td>\n",
       "      <td>Which one dissolve in water quikly sugar, salt...</td>\n",
       "      <td>Which fish would survive in salt water?</td>\n",
       "      <td>0</td>\n",
       "      <td>3</td>\n",
       "      <td>1</td>\n",
       "      <td>76</td>\n",
       "      <td>39</td>\n",
       "      <td>13</td>\n",
       "      <td>7</td>\n",
       "      <td>2.0</td>\n",
       "      <td>20.0</td>\n",
       "      <td>0.100000</td>\n",
       "      <td>4</td>\n",
       "      <td>2</td>\n",
       "    </tr>\n",
       "  </tbody>\n",
       "</table>\n",
       "</div>"
      ],
      "text/plain": [
       "   id  qid1  qid2                                          question1  \\\n",
       "0   0     1     2  What is the step by step guide to invest in sh...   \n",
       "1   1     3     4  What is the story of Kohinoor (Koh-i-Noor) Dia...   \n",
       "2   2     5     6  How can I increase the speed of my internet co...   \n",
       "3   3     7     8  Why am I mentally very lonely? How can I solve...   \n",
       "4   4     9    10  Which one dissolve in water quikly sugar, salt...   \n",
       "\n",
       "                                           question2  is_duplicate  freq_qid1  \\\n",
       "0  What is the step by step guide to invest in sh...             0          1   \n",
       "1  What would happen if the Indian government sto...             0          4   \n",
       "2  How can Internet speed be increased by hacking...             0          1   \n",
       "3  Find the remainder when [math]23^{24}[/math] i...             0          1   \n",
       "4            Which fish would survive in salt water?             0          3   \n",
       "\n",
       "   freq_qid2  q1len  q2len  q1_n_words  q2_n_words  word_Common  word_Total  \\\n",
       "0          1     66     57          14          12         10.0        23.0   \n",
       "1          1     51     88           8          13          4.0        20.0   \n",
       "2          1     73     59          14          10          4.0        24.0   \n",
       "3          1     50     65          11           9          0.0        19.0   \n",
       "4          1     76     39          13           7          2.0        20.0   \n",
       "\n",
       "   word_share  freq_q1+q2  freq_q1-q2  \n",
       "0    0.434783           2           0  \n",
       "1    0.200000           5           3  \n",
       "2    0.166667           2           0  \n",
       "3    0.000000           2           0  \n",
       "4    0.100000           4           2  "
      ]
     },
     "execution_count": 26,
     "metadata": {},
     "output_type": "execute_result"
    }
   ],
   "source": [
    "if os.path.isfile('df_fe_without_preprocessing_train.csv'):\n",
    "    df = pd.read_csv(\"df_fe_without_preprocessing_train.csv\",encoding='latin-1')\n",
    "else:\n",
    "    df['freq_qid1'] = df.groupby('qid1')['qid1'].transform('count') \n",
    "    df['freq_qid2'] = df.groupby('qid2')['qid2'].transform('count')\n",
    "    df['q1len'] = df['question1'].str.len() \n",
    "    df['q2len'] = df['question2'].str.len()\n",
    "    df['q1_n_words'] = df['question1'].apply(lambda row: len(row.split(\" \")))\n",
    "    df['q2_n_words'] = df['question2'].apply(lambda row: len(row.split(\" \")))\n",
    "\n",
    "    def normalized_word_Common(row):\n",
    "        w1 = set(map(lambda word: word.lower().strip(), row['question1'].split(\" \")))\n",
    "        w2 = set(map(lambda word: word.lower().strip(), row['question2'].split(\" \")))    \n",
    "        return 1.0 * len(w1 & w2)\n",
    "    df['word_Common'] = df.apply(normalized_word_Common, axis=1)\n",
    "\n",
    "    def normalized_word_Total(row):\n",
    "        w1 = set(map(lambda word: word.lower().strip(), row['question1'].split(\" \")))\n",
    "        w2 = set(map(lambda word: word.lower().strip(), row['question2'].split(\" \")))    \n",
    "        return 1.0 * (len(w1) + len(w2))\n",
    "    df['word_Total'] = df.apply(normalized_word_Total, axis=1)\n",
    "\n",
    "    def normalized_word_share(row):\n",
    "        w1 = set(map(lambda word: word.lower().strip(), row['question1'].split(\" \")))\n",
    "        w2 = set(map(lambda word: word.lower().strip(), row['question2'].split(\" \")))    \n",
    "        return 1.0 * len(w1 & w2)/(len(w1) + len(w2))\n",
    "    df['word_share'] = df.apply(normalized_word_share, axis=1)\n",
    "\n",
    "    df['freq_q1+q2'] = df['freq_qid1']+df['freq_qid2']\n",
    "    df['freq_q1-q2'] = abs(df['freq_qid1']-df['freq_qid2'])\n",
    "\n",
    "    df.to_csv(\"df_fe_without_preprocessing_train.csv\", index=False)\n",
    "\n",
    "df.head()"
   ]
  },
  {
   "cell_type": "markdown",
   "metadata": {
    "colab_type": "text",
    "id": "-zLujovVs5X3"
   },
   "source": [
    "<h3> 3.3.1 Analysis of some of the extracted features </h3>"
   ]
  },
  {
   "cell_type": "markdown",
   "metadata": {
    "colab_type": "text",
    "id": "zRIFQTkCs5X3"
   },
   "source": [
    "- Here are some questions have only one single words."
   ]
  },
  {
   "cell_type": "code",
   "execution_count": 18,
   "metadata": {
    "colab": {},
    "colab_type": "code",
    "id": "jSS0X82Ds5X5",
    "outputId": "5dacd7b2-d955-4435-9639-f1c6acd9b580"
   },
   "outputs": [
    {
     "name": "stdout",
     "output_type": "stream",
     "text": [
      "Minimum length of the questions in question1 :  1\n",
      "Minimum length of the questions in question2 :  1\n",
      "Number of Questions with minimum length [question1] : 67\n",
      "Number of Questions with minimum length [question2] : 24\n"
     ]
    }
   ],
   "source": [
    "print (\"Minimum length of the questions in question1 : \" , min(df['q1_n_words']))\n",
    "\n",
    "print (\"Minimum length of the questions in question2 : \" , min(df['q2_n_words']))\n",
    "\n",
    "print (\"Number of Questions with minimum length [question1] :\", df[df['q1_n_words']== 1].shape[0])\n",
    "print (\"Number of Questions with minimum length [question2] :\", df[df['q2_n_words']== 1].shape[0])"
   ]
  },
  {
   "cell_type": "markdown",
   "metadata": {
    "colab_type": "text",
    "id": "kFzTIHW3s5YB"
   },
   "source": [
    "<h4> 3.3.1.1 Feature: word_share </h4>"
   ]
  },
  {
   "cell_type": "code",
   "execution_count": 19,
   "metadata": {
    "colab": {},
    "colab_type": "code",
    "id": "s4rwGLFDs5YD",
    "outputId": "0103aaa0-3f5a-4eb4-cd22-164a57d7aef0"
   },
   "outputs": [
    {
     "data": {
      "image/png": "[encoded data removed]",
      "text/plain": [
       "<Figure size 864x576 with 2 Axes>"
      ]
     },
     "metadata": {
      "needs_background": "light"
     },
     "output_type": "display_data"
    }
   ],
   "source": [
    "plt.figure(figsize=(12, 8))\n",
    "\n",
    "plt.subplot(1,2,1)\n",
    "sns.violinplot(x = 'is_duplicate', y = 'word_share', data = df[0:])\n",
    "\n",
    "plt.subplot(1,2,2)\n",
    "sns.distplot(df[df['is_duplicate'] == 1.0]['word_share'][0:] , label = \"1\", color = 'red')\n",
    "sns.distplot(df[df['is_duplicate'] == 0.0]['word_share'][0:] , label = \"0\" , color = 'blue' )\n",
    "plt.show()"
   ]
  },
  {
   "cell_type": "markdown",
   "metadata": {
    "colab_type": "text",
    "id": "RcwMI4xps5YJ"
   },
   "source": [
    "- The distributions for normalized word_share have some overlap on the far right-hand side, i.e., there are quite a lot of questions with high word similarity\n",
    "- The average word share and Common no. of words of qid1 and qid2 is more when they are duplicate(Similar)"
   ]
  },
  {
   "cell_type": "markdown",
   "metadata": {
    "colab_type": "text",
    "id": "K0AbOS65s5YL"
   },
   "source": [
    "<h4> 3.3.1.2 Feature: word_Common </h4>"
   ]
  },
  {
   "cell_type": "code",
   "execution_count": 20,
   "metadata": {
    "colab": {},
    "colab_type": "code",
    "id": "_mCFvztcs5YM",
    "outputId": "008ac763-a832-4c11-88fa-5da52cdb9305"
   },
   "outputs": [
    {
     "data": {
      "image/png": "[encoded data removed]",
      "text/plain": [
       "<Figure size 864x576 with 2 Axes>"
      ]
     },
     "metadata": {
      "needs_background": "light"
     },
     "output_type": "display_data"
    }
   ],
   "source": [
    "plt.figure(figsize=(12, 8))\n",
    "\n",
    "plt.subplot(1,2,1)\n",
    "sns.violinplot(x = 'is_duplicate', y = 'word_Common', data = df[0:])\n",
    "\n",
    "plt.subplot(1,2,2)\n",
    "sns.distplot(df[df['is_duplicate'] == 1.0]['word_Common'][0:] , label = \"1\", color = 'red')\n",
    "sns.distplot(df[df['is_duplicate'] == 0.0]['word_Common'][0:] , label = \"0\" , color = 'blue' )\n",
    "plt.show()"
   ]
  },
  {
   "cell_type": "markdown",
   "metadata": {
    "colab_type": "text",
    "id": "9Ej1ouEVs5YR"
   },
   "source": [
    "<p> The distributions of the word_Common feature in similar and non-similar questions are highly overlapping </p>"
   ]
  },
  {
   "cell_type": "code",
   "execution_count": 23,
   "metadata": {},
   "outputs": [
    {
     "name": "stdout",
     "output_type": "stream",
     "text": [
      "Collecting mlxtend\n",
      "  Downloading mlxtend-0.17.2-py2.py3-none-any.whl (1.3 MB)\n",
      "Requirement already satisfied: pandas>=0.24.2 in c:\\users\\vishal\\anaconda3\\lib\\site-packages (from mlxtend) (1.0.1)\n",
      "Requirement already satisfied: joblib>=0.13.2 in c:\\users\\vishal\\anaconda3\\lib\\site-packages (from mlxtend) (0.14.1)\n",
      "Requirement already satisfied: setuptools in c:\\users\\vishal\\anaconda3\\lib\\site-packages (from mlxtend) (45.2.0.post20200210)\n",
      "Requirement already satisfied: scikit-learn>=0.20.3 in c:\\users\\vishal\\anaconda3\\lib\\site-packages (from mlxtend) (0.22.1)\n",
      "Requirement already satisfied: scipy>=1.2.1 in c:\\users\\vishal\\anaconda3\\lib\\site-packages (from mlxtend) (1.4.1)\n",
      "Requirement already satisfied: matplotlib>=3.0.0 in c:\\users\\vishal\\anaconda3\\lib\\site-packages (from mlxtend) (3.1.3)\n",
      "Requirement already satisfied: numpy>=1.16.2 in c:\\users\\vishal\\anaconda3\\lib\\site-packages (from mlxtend) (1.18.1)\n",
      "Requirement already satisfied: python-dateutil>=2.6.1 in c:\\users\\vishal\\anaconda3\\lib\\site-packages (from pandas>=0.24.2->mlxtend) (2.8.1)\n",
      "Requirement already satisfied: pytz>=2017.2 in c:\\users\\vishal\\anaconda3\\lib\\site-packages (from pandas>=0.24.2->mlxtend) (2019.3)\n",
      "Requirement already satisfied: kiwisolver>=1.0.1 in c:\\users\\vishal\\anaconda3\\lib\\site-packages (from matplotlib>=3.0.0->mlxtend) (1.1.0)\n",
      "Requirement already satisfied: cycler>=0.10 in c:\\users\\vishal\\anaconda3\\lib\\site-packages (from matplotlib>=3.0.0->mlxtend) (0.10.0)\n",
      "Requirement already satisfied: pyparsing!=2.0.4,!=2.1.2,!=2.1.6,>=2.0.1 in c:\\users\\vishal\\anaconda3\\lib\\site-packages (from matplotlib>=3.0.0->mlxtend) (2.4.6)\n",
      "Requirement already satisfied: six>=1.5 in c:\\users\\vishal\\anaconda3\\lib\\site-packages (from python-dateutil>=2.6.1->pandas>=0.24.2->mlxtend) (1.14.0)\n",
      "Installing collected packages: mlxtend\n",
      "Successfully installed mlxtend-0.17.2\n"
     ]
    }
   ],
   "source": [
    "!pip install mlxtend"
   ]
  },
  {
   "cell_type": "code",
   "execution_count": 24,
   "metadata": {},
   "outputs": [],
   "source": [
    "import pandas as pd\n",
    "import matplotlib.pyplot as plt\n",
    "import re\n",
    "import time\n",
    "import warnings\n",
    "import sqlite3\n",
    "from sqlalchemy import create_engine # database connection\n",
    "import csv\n",
    "import os\n",
    "warnings.filterwarnings(\"ignore\")\n",
    "import datetime as dt\n",
    "import numpy as np\n",
    "from nltk.corpus import stopwords\n",
    "from sklearn.decomposition import TruncatedSVD\n",
    "from sklearn.preprocessing import normalize\n",
    "from sklearn.feature_extraction.text import CountVectorizer\n",
    "from sklearn.manifold import TSNE\n",
    "import seaborn as sns\n",
    "from sklearn.neighbors import KNeighborsClassifier\n",
    "from sklearn.metrics import confusion_matrix\n",
    "from sklearn.metrics.classification import accuracy_score, log_loss\n",
    "from sklearn.feature_extraction.text import TfidfVectorizer\n",
    "from collections import Counter\n",
    "from scipy.sparse import hstack\n",
    "from sklearn.multiclass import OneVsRestClassifier\n",
    "from sklearn.svm import SVC\n",
    "from sklearn.model_selection import StratifiedKFold \n",
    "from collections import Counter, defaultdict\n",
    "from sklearn.calibration import CalibratedClassifierCV\n",
    "from sklearn.naive_bayes import MultinomialNB\n",
    "from sklearn.naive_bayes import GaussianNB\n",
    "from sklearn.model_selection import train_test_split\n",
    "from sklearn.model_selection import GridSearchCV\n",
    "import math\n",
    "from sklearn.metrics import normalized_mutual_info_score\n",
    "from sklearn.ensemble import RandomForestClassifier\n",
    "\n",
    "\n",
    "\n",
    "from sklearn.model_selection import cross_val_score\n",
    "from sklearn.linear_model import SGDClassifier\n",
    "from mlxtend.classifier import StackingClassifier\n",
    "\n",
    "from sklearn import model_selection\n",
    "from sklearn.linear_model import LogisticRegression\n",
    "from sklearn.metrics import precision_recall_curve, auc, roc_curve"
   ]
  },
  {
   "cell_type": "code",
   "execution_count": 25,
   "metadata": {},
   "outputs": [
    {
     "ename": "FileNotFoundError",
     "evalue": "[Errno 2] No such file or directory: 'final_features.csv'",
     "output_type": "error",
     "traceback": [
      "\u001b[1;31m---------------------------------------------------------------------------\u001b[0m",
      "\u001b[1;31mFileNotFoundError\u001b[0m                         Traceback (most recent call last)",
      "\u001b[1;32m<ipython-input-25-5a06afcf1686>\u001b[0m in \u001b[0;36m<module>\u001b[1;34m\u001b[0m\n\u001b[0;32m      6\u001b[0m     \u001b[0mj\u001b[0m \u001b[1;33m=\u001b[0m \u001b[1;36m0\u001b[0m\u001b[1;33m\u001b[0m\u001b[1;33m\u001b[0m\u001b[0m\n\u001b[0;32m      7\u001b[0m     \u001b[0mindex_start\u001b[0m \u001b[1;33m=\u001b[0m \u001b[1;36m1\u001b[0m\u001b[1;33m\u001b[0m\u001b[1;33m\u001b[0m\u001b[0m\n\u001b[1;32m----> 8\u001b[1;33m     \u001b[1;32mfor\u001b[0m \u001b[0mdf\u001b[0m \u001b[1;32min\u001b[0m \u001b[0mpd\u001b[0m\u001b[1;33m.\u001b[0m\u001b[0mread_csv\u001b[0m\u001b[1;33m(\u001b[0m\u001b[1;34m'final_features.csv'\u001b[0m\u001b[1;33m,\u001b[0m \u001b[0mnames\u001b[0m\u001b[1;33m=\u001b[0m\u001b[1;33m[\u001b[0m\u001b[1;34m'Unnamed: 0'\u001b[0m\u001b[1;33m,\u001b[0m\u001b[1;34m'id'\u001b[0m\u001b[1;33m,\u001b[0m\u001b[1;34m'is_duplicate'\u001b[0m\u001b[1;33m,\u001b[0m\u001b[1;34m'cwc_min'\u001b[0m\u001b[1;33m,\u001b[0m\u001b[1;34m'cwc_max'\u001b[0m\u001b[1;33m,\u001b[0m\u001b[1;34m'csc_min'\u001b[0m\u001b[1;33m,\u001b[0m\u001b[1;34m'csc_max'\u001b[0m\u001b[1;33m,\u001b[0m\u001b[1;34m'ctc_min'\u001b[0m\u001b[1;33m,\u001b[0m\u001b[1;34m'ctc_max'\u001b[0m\u001b[1;33m,\u001b[0m\u001b[1;34m'last_word_eq'\u001b[0m\u001b[1;33m,\u001b[0m\u001b[1;34m'first_word_eq'\u001b[0m\u001b[1;33m,\u001b[0m\u001b[1;34m'abs_len_diff'\u001b[0m\u001b[1;33m,\u001b[0m\u001b[1;34m'mean_len'\u001b[0m\u001b[1;33m,\u001b[0m\u001b[1;34m'token_set_ratio'\u001b[0m\u001b[1;33m,\u001b[0m\u001b[1;34m'token_sort_ratio'\u001b[0m\u001b[1;33m,\u001b[0m\u001b[1;34m'fuzz_ratio'\u001b[0m\u001b[1;33m,\u001b[0m\u001b[1;34m'fuzz_partial_ratio'\u001b[0m\u001b[1;33m,\u001b[0m\u001b[1;34m'longest_substr_ratio'\u001b[0m\u001b[1;33m,\u001b[0m\u001b[1;34m'freq_qid1'\u001b[0m\u001b[1;33m,\u001b[0m\u001b[1;34m'freq_qid2'\u001b[0m\u001b[1;33m,\u001b[0m\u001b[1;34m'q1len'\u001b[0m\u001b[1;33m,\u001b[0m\u001b[1;34m'q2len'\u001b[0m\u001b[1;33m,\u001b[0m\u001b[1;34m'q1_n_words'\u001b[0m\u001b[1;33m,\u001b[0m\u001b[1;34m'q2_n_words'\u001b[0m\u001b[1;33m,\u001b[0m\u001b[1;34m'word_Common'\u001b[0m\u001b[1;33m,\u001b[0m\u001b[1;34m'word_Total'\u001b[0m\u001b[1;33m,\u001b[0m\u001b[1;34m'word_share'\u001b[0m\u001b[1;33m,\u001b[0m\u001b[1;34m'freq_q1+q2'\u001b[0m\u001b[1;33m,\u001b[0m\u001b[1;34m'freq_q1-q2'\u001b[0m\u001b[1;33m,\u001b[0m\u001b[1;34m'0_x'\u001b[0m\u001b[1;33m,\u001b[0m\u001b[1;34m'1_x'\u001b[0m\u001b[1;33m,\u001b[0m\u001b[1;34m'2_x'\u001b[0m\u001b[1;33m,\u001b[0m\u001b[1;34m'3_x'\u001b[0m\u001b[1;33m,\u001b[0m\u001b[1;34m'4_x'\u001b[0m\u001b[1;33m,\u001b[0m\u001b[1;34m'5_x'\u001b[0m\u001b[1;33m,\u001b[0m\u001b[1;34m'6_x'\u001b[0m\u001b[1;33m,\u001b[0m\u001b[1;34m'7_x'\u001b[0m\u001b[1;33m,\u001b[0m\u001b[1;34m'8_x'\u001b[0m\u001b[1;33m,\u001b[0m\u001b[1;34m'9_x'\u001b[0m\u001b[1;33m,\u001b[0m\u001b[1;34m'10_x'\u001b[0m\u001b[1;33m,\u001b[0m\u001b[1;34m'11_x'\u001b[0m\u001b[1;33m,\u001b[0m\u001b[1;34m'12_x'\u001b[0m\u001b[1;33m,\u001b[0m\u001b[1;34m'13_x'\u001b[0m\u001b[1;33m,\u001b[0m\u001b[1;34m'14_x'\u001b[0m\u001b[1;33m,\u001b[0m\u001b[1;34m'15_x'\u001b[0m\u001b[1;33m,\u001b[0m\u001b[1;34m'16_x'\u001b[0m\u001b[1;33m,\u001b[0m\u001b[1;34m'17_x'\u001b[0m\u001b[1;33m,\u001b[0m\u001b[1;34m'18_x'\u001b[0m\u001b[1;33m,\u001b[0m\u001b[1;34m'19_x'\u001b[0m\u001b[1;33m,\u001b[0m\u001b[1;34m'20_x'\u001b[0m\u001b[1;33m,\u001b[0m\u001b[1;34m'21_x'\u001b[0m\u001b[1;33m,\u001b[0m\u001b[1;34m'22_x'\u001b[0m\u001b[1;33m,\u001b[0m\u001b[1;34m'23_x'\u001b[0m\u001b[1;33m,\u001b[0m\u001b[1;34m'24_x'\u001b[0m\u001b[1;33m,\u001b[0m\u001b[1;34m'25_x'\u001b[0m\u001b[1;33m,\u001b[0m\u001b[1;34m'26_x'\u001b[0m\u001b[1;33m,\u001b[0m\u001b[1;34m'27_x'\u001b[0m\u001b[1;33m,\u001b[0m\u001b[1;34m'28_x'\u001b[0m\u001b[1;33m,\u001b[0m\u001b[1;34m'29_x'\u001b[0m\u001b[1;33m,\u001b[0m\u001b[1;34m'30_x'\u001b[0m\u001b[1;33m,\u001b[0m\u001b[1;34m'31_x'\u001b[0m\u001b[1;33m,\u001b[0m\u001b[1;34m'32_x'\u001b[0m\u001b[1;33m,\u001b[0m\u001b[1;34m'33_x'\u001b[0m\u001b[1;33m,\u001b[0m\u001b[1;34m'34_x'\u001b[0m\u001b[1;33m,\u001b[0m\u001b[1;34m'35_x'\u001b[0m\u001b[1;33m,\u001b[0m\u001b[1;34m'36_x'\u001b[0m\u001b[1;33m,\u001b[0m\u001b[1;34m'37_x'\u001b[0m\u001b[1;33m,\u001b[0m\u001b[1;34m'38_x'\u001b[0m\u001b[1;33m,\u001b[0m\u001b[1;34m'39_x'\u001b[0m\u001b[1;33m,\u001b[0m\u001b[1;34m'40_x'\u001b[0m\u001b[1;33m,\u001b[0m\u001b[1;34m'41_x'\u001b[0m\u001b[1;33m,\u001b[0m\u001b[1;34m'42_x'\u001b[0m\u001b[1;33m,\u001b[0m\u001b[1;34m'43_x'\u001b[0m\u001b[1;33m,\u001b[0m\u001b[1;34m'44_x'\u001b[0m\u001b[1;33m,\u001b[0m\u001b[1;34m'45_x'\u001b[0m\u001b[1;33m,\u001b[0m\u001b[1;34m'46_x'\u001b[0m\u001b[1;33m,\u001b[0m\u001b[1;34m'47_x'\u001b[0m\u001b[1;33m,\u001b[0m\u001b[1;34m'48_x'\u001b[0m\u001b[1;33m,\u001b[0m\u001b[1;34m'49_x'\u001b[0m\u001b[1;33m,\u001b[0m\u001b[1;34m'50_x'\u001b[0m\u001b[1;33m,\u001b[0m\u001b[1;34m'51_x'\u001b[0m\u001b[1;33m,\u001b[0m\u001b[1;34m'52_x'\u001b[0m\u001b[1;33m,\u001b[0m\u001b[1;34m'53_x'\u001b[0m\u001b[1;33m,\u001b[0m\u001b[1;34m'54_x'\u001b[0m\u001b[1;33m,\u001b[0m\u001b[1;34m'55_x'\u001b[0m\u001b[1;33m,\u001b[0m\u001b[1;34m'56_x'\u001b[0m\u001b[1;33m,\u001b[0m\u001b[1;34m'57_x'\u001b[0m\u001b[1;33m,\u001b[0m\u001b[1;34m'58_x'\u001b[0m\u001b[1;33m,\u001b[0m\u001b[1;34m'59_x'\u001b[0m\u001b[1;33m,\u001b[0m\u001b[1;34m'60_x'\u001b[0m\u001b[1;33m,\u001b[0m\u001b[1;34m'61_x'\u001b[0m\u001b[1;33m,\u001b[0m\u001b[1;34m'62_x'\u001b[0m\u001b[1;33m,\u001b[0m\u001b[1;34m'63_x'\u001b[0m\u001b[1;33m,\u001b[0m\u001b[1;34m'64_x'\u001b[0m\u001b[1;33m,\u001b[0m\u001b[1;34m'65_x'\u001b[0m\u001b[1;33m,\u001b[0m\u001b[1;34m'66_x'\u001b[0m\u001b[1;33m,\u001b[0m\u001b[1;34m'67_x'\u001b[0m\u001b[1;33m,\u001b[0m\u001b[1;34m'68_x'\u001b[0m\u001b[1;33m,\u001b[0m\u001b[1;34m'69_x'\u001b[0m\u001b[1;33m,\u001b[0m\u001b[1;34m'70_x'\u001b[0m\u001b[1;33m,\u001b[0m\u001b[1;34m'71_x'\u001b[0m\u001b[1;33m,\u001b[0m\u001b[1;34m'72_x'\u001b[0m\u001b[1;33m,\u001b[0m\u001b[1;34m'73_x'\u001b[0m\u001b[1;33m,\u001b[0m\u001b[1;34m'74_x'\u001b[0m\u001b[1;33m,\u001b[0m\u001b[1;34m'75_x'\u001b[0m\u001b[1;33m,\u001b[0m\u001b[1;34m'76_x'\u001b[0m\u001b[1;33m,\u001b[0m\u001b[1;34m'77_x'\u001b[0m\u001b[1;33m,\u001b[0m\u001b[1;34m'78_x'\u001b[0m\u001b[1;33m,\u001b[0m\u001b[1;34m'79_x'\u001b[0m\u001b[1;33m,\u001b[0m\u001b[1;34m'80_x'\u001b[0m\u001b[1;33m,\u001b[0m\u001b[1;34m'81_x'\u001b[0m\u001b[1;33m,\u001b[0m\u001b[1;34m'82_x'\u001b[0m\u001b[1;33m,\u001b[0m\u001b[1;34m'83_x'\u001b[0m\u001b[1;33m,\u001b[0m\u001b[1;34m'84_x'\u001b[0m\u001b[1;33m,\u001b[0m\u001b[1;34m'85_x'\u001b[0m\u001b[1;33m,\u001b[0m\u001b[1;34m'86_x'\u001b[0m\u001b[1;33m,\u001b[0m\u001b[1;34m'87_x'\u001b[0m\u001b[1;33m,\u001b[0m\u001b[1;34m'88_x'\u001b[0m\u001b[1;33m,\u001b[0m\u001b[1;34m'89_x'\u001b[0m\u001b[1;33m,\u001b[0m\u001b[1;34m'90_x'\u001b[0m\u001b[1;33m,\u001b[0m\u001b[1;34m'91_x'\u001b[0m\u001b[1;33m,\u001b[0m\u001b[1;34m'92_x'\u001b[0m\u001b[1;33m,\u001b[0m\u001b[1;34m'93_x'\u001b[0m\u001b[1;33m,\u001b[0m\u001b[1;34m'94_x'\u001b[0m\u001b[1;33m,\u001b[0m\u001b[1;34m'95_x'\u001b[0m\u001b[1;33m,\u001b[0m\u001b[1;34m'96_x'\u001b[0m\u001b[1;33m,\u001b[0m\u001b[1;34m'97_x'\u001b[0m\u001b[1;33m,\u001b[0m\u001b[1;34m'98_x'\u001b[0m\u001b[1;33m,\u001b[0m\u001b[1;34m'99_x'\u001b[0m\u001b[1;33m,\u001b[0m\u001b[1;34m'100_x'\u001b[0m\u001b[1;33m,\u001b[0m\u001b[1;34m'101_x'\u001b[0m\u001b[1;33m,\u001b[0m\u001b[1;34m'102_x'\u001b[0m\u001b[1;33m,\u001b[0m\u001b[1;34m'103_x'\u001b[0m\u001b[1;33m,\u001b[0m\u001b[1;34m'104_x'\u001b[0m\u001b[1;33m,\u001b[0m\u001b[1;34m'105_x'\u001b[0m\u001b[1;33m,\u001b[0m\u001b[1;34m'106_x'\u001b[0m\u001b[1;33m,\u001b[0m\u001b[1;34m'107_x'\u001b[0m\u001b[1;33m,\u001b[0m\u001b[1;34m'108_x'\u001b[0m\u001b[1;33m,\u001b[0m\u001b[1;34m'109_x'\u001b[0m\u001b[1;33m,\u001b[0m\u001b[1;34m'110_x'\u001b[0m\u001b[1;33m,\u001b[0m\u001b[1;34m'111_x'\u001b[0m\u001b[1;33m,\u001b[0m\u001b[1;34m'112_x'\u001b[0m\u001b[1;33m,\u001b[0m\u001b[1;34m'113_x'\u001b[0m\u001b[1;33m,\u001b[0m\u001b[1;34m'114_x'\u001b[0m\u001b[1;33m,\u001b[0m\u001b[1;34m'115_x'\u001b[0m\u001b[1;33m,\u001b[0m\u001b[1;34m'116_x'\u001b[0m\u001b[1;33m,\u001b[0m\u001b[1;34m'117_x'\u001b[0m\u001b[1;33m,\u001b[0m\u001b[1;34m'118_x'\u001b[0m\u001b[1;33m,\u001b[0m\u001b[1;34m'119_x'\u001b[0m\u001b[1;33m,\u001b[0m\u001b[1;34m'120_x'\u001b[0m\u001b[1;33m,\u001b[0m\u001b[1;34m'121_x'\u001b[0m\u001b[1;33m,\u001b[0m\u001b[1;34m'122_x'\u001b[0m\u001b[1;33m,\u001b[0m\u001b[1;34m'123_x'\u001b[0m\u001b[1;33m,\u001b[0m\u001b[1;34m'124_x'\u001b[0m\u001b[1;33m,\u001b[0m\u001b[1;34m'125_x'\u001b[0m\u001b[1;33m,\u001b[0m\u001b[1;34m'126_x'\u001b[0m\u001b[1;33m,\u001b[0m\u001b[1;34m'127_x'\u001b[0m\u001b[1;33m,\u001b[0m\u001b[1;34m'128_x'\u001b[0m\u001b[1;33m,\u001b[0m\u001b[1;34m'129_x'\u001b[0m\u001b[1;33m,\u001b[0m\u001b[1;34m'130_x'\u001b[0m\u001b[1;33m,\u001b[0m\u001b[1;34m'131_x'\u001b[0m\u001b[1;33m,\u001b[0m\u001b[1;34m'132_x'\u001b[0m\u001b[1;33m,\u001b[0m\u001b[1;34m'133_x'\u001b[0m\u001b[1;33m,\u001b[0m\u001b[1;34m'134_x'\u001b[0m\u001b[1;33m,\u001b[0m\u001b[1;34m'135_x'\u001b[0m\u001b[1;33m,\u001b[0m\u001b[1;34m'136_x'\u001b[0m\u001b[1;33m,\u001b[0m\u001b[1;34m'137_x'\u001b[0m\u001b[1;33m,\u001b[0m\u001b[1;34m'138_x'\u001b[0m\u001b[1;33m,\u001b[0m\u001b[1;34m'139_x'\u001b[0m\u001b[1;33m,\u001b[0m\u001b[1;34m'140_x'\u001b[0m\u001b[1;33m,\u001b[0m\u001b[1;34m'141_x'\u001b[0m\u001b[1;33m,\u001b[0m\u001b[1;34m'142_x'\u001b[0m\u001b[1;33m,\u001b[0m\u001b[1;34m'143_x'\u001b[0m\u001b[1;33m,\u001b[0m\u001b[1;34m'144_x'\u001b[0m\u001b[1;33m,\u001b[0m\u001b[1;34m'145_x'\u001b[0m\u001b[1;33m,\u001b[0m\u001b[1;34m'146_x'\u001b[0m\u001b[1;33m,\u001b[0m\u001b[1;34m'147_x'\u001b[0m\u001b[1;33m,\u001b[0m\u001b[1;34m'148_x'\u001b[0m\u001b[1;33m,\u001b[0m\u001b[1;34m'149_x'\u001b[0m\u001b[1;33m,\u001b[0m\u001b[1;34m'150_x'\u001b[0m\u001b[1;33m,\u001b[0m\u001b[1;34m'151_x'\u001b[0m\u001b[1;33m,\u001b[0m\u001b[1;34m'152_x'\u001b[0m\u001b[1;33m,\u001b[0m\u001b[1;34m'153_x'\u001b[0m\u001b[1;33m,\u001b[0m\u001b[1;34m'154_x'\u001b[0m\u001b[1;33m,\u001b[0m\u001b[1;34m'155_x'\u001b[0m\u001b[1;33m,\u001b[0m\u001b[1;34m'156_x'\u001b[0m\u001b[1;33m,\u001b[0m\u001b[1;34m'157_x'\u001b[0m\u001b[1;33m,\u001b[0m\u001b[1;34m'158_x'\u001b[0m\u001b[1;33m,\u001b[0m\u001b[1;34m'159_x'\u001b[0m\u001b[1;33m,\u001b[0m\u001b[1;34m'160_x'\u001b[0m\u001b[1;33m,\u001b[0m\u001b[1;34m'161_x'\u001b[0m\u001b[1;33m,\u001b[0m\u001b[1;34m'162_x'\u001b[0m\u001b[1;33m,\u001b[0m\u001b[1;34m'163_x'\u001b[0m\u001b[1;33m,\u001b[0m\u001b[1;34m'164_x'\u001b[0m\u001b[1;33m,\u001b[0m\u001b[1;34m'165_x'\u001b[0m\u001b[1;33m,\u001b[0m\u001b[1;34m'166_x'\u001b[0m\u001b[1;33m,\u001b[0m\u001b[1;34m'167_x'\u001b[0m\u001b[1;33m,\u001b[0m\u001b[1;34m'168_x'\u001b[0m\u001b[1;33m,\u001b[0m\u001b[1;34m'169_x'\u001b[0m\u001b[1;33m,\u001b[0m\u001b[1;34m'170_x'\u001b[0m\u001b[1;33m,\u001b[0m\u001b[1;34m'171_x'\u001b[0m\u001b[1;33m,\u001b[0m\u001b[1;34m'172_x'\u001b[0m\u001b[1;33m,\u001b[0m\u001b[1;34m'173_x'\u001b[0m\u001b[1;33m,\u001b[0m\u001b[1;34m'174_x'\u001b[0m\u001b[1;33m,\u001b[0m\u001b[1;34m'175_x'\u001b[0m\u001b[1;33m,\u001b[0m\u001b[1;34m'176_x'\u001b[0m\u001b[1;33m,\u001b[0m\u001b[1;34m'177_x'\u001b[0m\u001b[1;33m,\u001b[0m\u001b[1;34m'178_x'\u001b[0m\u001b[1;33m,\u001b[0m\u001b[1;34m'179_x'\u001b[0m\u001b[1;33m,\u001b[0m\u001b[1;34m'180_x'\u001b[0m\u001b[1;33m,\u001b[0m\u001b[1;34m'181_x'\u001b[0m\u001b[1;33m,\u001b[0m\u001b[1;34m'182_x'\u001b[0m\u001b[1;33m,\u001b[0m\u001b[1;34m'183_x'\u001b[0m\u001b[1;33m,\u001b[0m\u001b[1;34m'184_x'\u001b[0m\u001b[1;33m,\u001b[0m\u001b[1;34m'185_x'\u001b[0m\u001b[1;33m,\u001b[0m\u001b[1;34m'186_x'\u001b[0m\u001b[1;33m,\u001b[0m\u001b[1;34m'187_x'\u001b[0m\u001b[1;33m,\u001b[0m\u001b[1;34m'188_x'\u001b[0m\u001b[1;33m,\u001b[0m\u001b[1;34m'189_x'\u001b[0m\u001b[1;33m,\u001b[0m\u001b[1;34m'190_x'\u001b[0m\u001b[1;33m,\u001b[0m\u001b[1;34m'191_x'\u001b[0m\u001b[1;33m,\u001b[0m\u001b[1;34m'192_x'\u001b[0m\u001b[1;33m,\u001b[0m\u001b[1;34m'193_x'\u001b[0m\u001b[1;33m,\u001b[0m\u001b[1;34m'194_x'\u001b[0m\u001b[1;33m,\u001b[0m\u001b[1;34m'195_x'\u001b[0m\u001b[1;33m,\u001b[0m\u001b[1;34m'196_x'\u001b[0m\u001b[1;33m,\u001b[0m\u001b[1;34m'197_x'\u001b[0m\u001b[1;33m,\u001b[0m\u001b[1;34m'198_x'\u001b[0m\u001b[1;33m,\u001b[0m\u001b[1;34m'199_x'\u001b[0m\u001b[1;33m,\u001b[0m\u001b[1;34m'200_x'\u001b[0m\u001b[1;33m,\u001b[0m\u001b[1;34m'201_x'\u001b[0m\u001b[1;33m,\u001b[0m\u001b[1;34m'202_x'\u001b[0m\u001b[1;33m,\u001b[0m\u001b[1;34m'203_x'\u001b[0m\u001b[1;33m,\u001b[0m\u001b[1;34m'204_x'\u001b[0m\u001b[1;33m,\u001b[0m\u001b[1;34m'205_x'\u001b[0m\u001b[1;33m,\u001b[0m\u001b[1;34m'206_x'\u001b[0m\u001b[1;33m,\u001b[0m\u001b[1;34m'207_x'\u001b[0m\u001b[1;33m,\u001b[0m\u001b[1;34m'208_x'\u001b[0m\u001b[1;33m,\u001b[0m\u001b[1;34m'209_x'\u001b[0m\u001b[1;33m,\u001b[0m\u001b[1;34m'210_x'\u001b[0m\u001b[1;33m,\u001b[0m\u001b[1;34m'211_x'\u001b[0m\u001b[1;33m,\u001b[0m\u001b[1;34m'212_x'\u001b[0m\u001b[1;33m,\u001b[0m\u001b[1;34m'213_x'\u001b[0m\u001b[1;33m,\u001b[0m\u001b[1;34m'214_x'\u001b[0m\u001b[1;33m,\u001b[0m\u001b[1;34m'215_x'\u001b[0m\u001b[1;33m,\u001b[0m\u001b[1;34m'216_x'\u001b[0m\u001b[1;33m,\u001b[0m\u001b[1;34m'217_x'\u001b[0m\u001b[1;33m,\u001b[0m\u001b[1;34m'218_x'\u001b[0m\u001b[1;33m,\u001b[0m\u001b[1;34m'219_x'\u001b[0m\u001b[1;33m,\u001b[0m\u001b[1;34m'220_x'\u001b[0m\u001b[1;33m,\u001b[0m\u001b[1;34m'221_x'\u001b[0m\u001b[1;33m,\u001b[0m\u001b[1;34m'222_x'\u001b[0m\u001b[1;33m,\u001b[0m\u001b[1;34m'223_x'\u001b[0m\u001b[1;33m,\u001b[0m\u001b[1;34m'224_x'\u001b[0m\u001b[1;33m,\u001b[0m\u001b[1;34m'225_x'\u001b[0m\u001b[1;33m,\u001b[0m\u001b[1;34m'226_x'\u001b[0m\u001b[1;33m,\u001b[0m\u001b[1;34m'227_x'\u001b[0m\u001b[1;33m,\u001b[0m\u001b[1;34m'228_x'\u001b[0m\u001b[1;33m,\u001b[0m\u001b[1;34m'229_x'\u001b[0m\u001b[1;33m,\u001b[0m\u001b[1;34m'230_x'\u001b[0m\u001b[1;33m,\u001b[0m\u001b[1;34m'231_x'\u001b[0m\u001b[1;33m,\u001b[0m\u001b[1;34m'232_x'\u001b[0m\u001b[1;33m,\u001b[0m\u001b[1;34m'233_x'\u001b[0m\u001b[1;33m,\u001b[0m\u001b[1;34m'234_x'\u001b[0m\u001b[1;33m,\u001b[0m\u001b[1;34m'235_x'\u001b[0m\u001b[1;33m,\u001b[0m\u001b[1;34m'236_x'\u001b[0m\u001b[1;33m,\u001b[0m\u001b[1;34m'237_x'\u001b[0m\u001b[1;33m,\u001b[0m\u001b[1;34m'238_x'\u001b[0m\u001b[1;33m,\u001b[0m\u001b[1;34m'239_x'\u001b[0m\u001b[1;33m,\u001b[0m\u001b[1;34m'240_x'\u001b[0m\u001b[1;33m,\u001b[0m\u001b[1;34m'241_x'\u001b[0m\u001b[1;33m,\u001b[0m\u001b[1;34m'242_x'\u001b[0m\u001b[1;33m,\u001b[0m\u001b[1;34m'243_x'\u001b[0m\u001b[1;33m,\u001b[0m\u001b[1;34m'244_x'\u001b[0m\u001b[1;33m,\u001b[0m\u001b[1;34m'245_x'\u001b[0m\u001b[1;33m,\u001b[0m\u001b[1;34m'246_x'\u001b[0m\u001b[1;33m,\u001b[0m\u001b[1;34m'247_x'\u001b[0m\u001b[1;33m,\u001b[0m\u001b[1;34m'248_x'\u001b[0m\u001b[1;33m,\u001b[0m\u001b[1;34m'249_x'\u001b[0m\u001b[1;33m,\u001b[0m\u001b[1;34m'250_x'\u001b[0m\u001b[1;33m,\u001b[0m\u001b[1;34m'251_x'\u001b[0m\u001b[1;33m,\u001b[0m\u001b[1;34m'252_x'\u001b[0m\u001b[1;33m,\u001b[0m\u001b[1;34m'253_x'\u001b[0m\u001b[1;33m,\u001b[0m\u001b[1;34m'254_x'\u001b[0m\u001b[1;33m,\u001b[0m\u001b[1;34m'255_x'\u001b[0m\u001b[1;33m,\u001b[0m\u001b[1;34m'256_x'\u001b[0m\u001b[1;33m,\u001b[0m\u001b[1;34m'257_x'\u001b[0m\u001b[1;33m,\u001b[0m\u001b[1;34m'258_x'\u001b[0m\u001b[1;33m,\u001b[0m\u001b[1;34m'259_x'\u001b[0m\u001b[1;33m,\u001b[0m\u001b[1;34m'260_x'\u001b[0m\u001b[1;33m,\u001b[0m\u001b[1;34m'261_x'\u001b[0m\u001b[1;33m,\u001b[0m\u001b[1;34m'262_x'\u001b[0m\u001b[1;33m,\u001b[0m\u001b[1;34m'263_x'\u001b[0m\u001b[1;33m,\u001b[0m\u001b[1;34m'264_x'\u001b[0m\u001b[1;33m,\u001b[0m\u001b[1;34m'265_x'\u001b[0m\u001b[1;33m,\u001b[0m\u001b[1;34m'266_x'\u001b[0m\u001b[1;33m,\u001b[0m\u001b[1;34m'267_x'\u001b[0m\u001b[1;33m,\u001b[0m\u001b[1;34m'268_x'\u001b[0m\u001b[1;33m,\u001b[0m\u001b[1;34m'269_x'\u001b[0m\u001b[1;33m,\u001b[0m\u001b[1;34m'270_x'\u001b[0m\u001b[1;33m,\u001b[0m\u001b[1;34m'271_x'\u001b[0m\u001b[1;33m,\u001b[0m\u001b[1;34m'272_x'\u001b[0m\u001b[1;33m,\u001b[0m\u001b[1;34m'273_x'\u001b[0m\u001b[1;33m,\u001b[0m\u001b[1;34m'274_x'\u001b[0m\u001b[1;33m,\u001b[0m\u001b[1;34m'275_x'\u001b[0m\u001b[1;33m,\u001b[0m\u001b[1;34m'276_x'\u001b[0m\u001b[1;33m,\u001b[0m\u001b[1;34m'277_x'\u001b[0m\u001b[1;33m,\u001b[0m\u001b[1;34m'278_x'\u001b[0m\u001b[1;33m,\u001b[0m\u001b[1;34m'279_x'\u001b[0m\u001b[1;33m,\u001b[0m\u001b[1;34m'280_x'\u001b[0m\u001b[1;33m,\u001b[0m\u001b[1;34m'281_x'\u001b[0m\u001b[1;33m,\u001b[0m\u001b[1;34m'282_x'\u001b[0m\u001b[1;33m,\u001b[0m\u001b[1;34m'283_x'\u001b[0m\u001b[1;33m,\u001b[0m\u001b[1;34m'284_x'\u001b[0m\u001b[1;33m,\u001b[0m\u001b[1;34m'285_x'\u001b[0m\u001b[1;33m,\u001b[0m\u001b[1;34m'286_x'\u001b[0m\u001b[1;33m,\u001b[0m\u001b[1;34m'287_x'\u001b[0m\u001b[1;33m,\u001b[0m\u001b[1;34m'288_x'\u001b[0m\u001b[1;33m,\u001b[0m\u001b[1;34m'289_x'\u001b[0m\u001b[1;33m,\u001b[0m\u001b[1;34m'290_x'\u001b[0m\u001b[1;33m,\u001b[0m\u001b[1;34m'291_x'\u001b[0m\u001b[1;33m,\u001b[0m\u001b[1;34m'292_x'\u001b[0m\u001b[1;33m,\u001b[0m\u001b[1;34m'293_x'\u001b[0m\u001b[1;33m,\u001b[0m\u001b[1;34m'294_x'\u001b[0m\u001b[1;33m,\u001b[0m\u001b[1;34m'295_x'\u001b[0m\u001b[1;33m,\u001b[0m\u001b[1;34m'296_x'\u001b[0m\u001b[1;33m,\u001b[0m\u001b[1;34m'297_x'\u001b[0m\u001b[1;33m,\u001b[0m\u001b[1;34m'298_x'\u001b[0m\u001b[1;33m,\u001b[0m\u001b[1;34m'299_x'\u001b[0m\u001b[1;33m,\u001b[0m\u001b[1;34m'300_x'\u001b[0m\u001b[1;33m,\u001b[0m\u001b[1;34m'301_x'\u001b[0m\u001b[1;33m,\u001b[0m\u001b[1;34m'302_x'\u001b[0m\u001b[1;33m,\u001b[0m\u001b[1;34m'303_x'\u001b[0m\u001b[1;33m,\u001b[0m\u001b[1;34m'304_x'\u001b[0m\u001b[1;33m,\u001b[0m\u001b[1;34m'305_x'\u001b[0m\u001b[1;33m,\u001b[0m\u001b[1;34m'306_x'\u001b[0m\u001b[1;33m,\u001b[0m\u001b[1;34m'307_x'\u001b[0m\u001b[1;33m,\u001b[0m\u001b[1;34m'308_x'\u001b[0m\u001b[1;33m,\u001b[0m\u001b[1;34m'309_x'\u001b[0m\u001b[1;33m,\u001b[0m\u001b[1;34m'310_x'\u001b[0m\u001b[1;33m,\u001b[0m\u001b[1;34m'311_x'\u001b[0m\u001b[1;33m,\u001b[0m\u001b[1;34m'312_x'\u001b[0m\u001b[1;33m,\u001b[0m\u001b[1;34m'313_x'\u001b[0m\u001b[1;33m,\u001b[0m\u001b[1;34m'314_x'\u001b[0m\u001b[1;33m,\u001b[0m\u001b[1;34m'315_x'\u001b[0m\u001b[1;33m,\u001b[0m\u001b[1;34m'316_x'\u001b[0m\u001b[1;33m,\u001b[0m\u001b[1;34m'317_x'\u001b[0m\u001b[1;33m,\u001b[0m\u001b[1;34m'318_x'\u001b[0m\u001b[1;33m,\u001b[0m\u001b[1;34m'319_x'\u001b[0m\u001b[1;33m,\u001b[0m\u001b[1;34m'320_x'\u001b[0m\u001b[1;33m,\u001b[0m\u001b[1;34m'321_x'\u001b[0m\u001b[1;33m,\u001b[0m\u001b[1;34m'322_x'\u001b[0m\u001b[1;33m,\u001b[0m\u001b[1;34m'323_x'\u001b[0m\u001b[1;33m,\u001b[0m\u001b[1;34m'324_x'\u001b[0m\u001b[1;33m,\u001b[0m\u001b[1;34m'325_x'\u001b[0m\u001b[1;33m,\u001b[0m\u001b[1;34m'326_x'\u001b[0m\u001b[1;33m,\u001b[0m\u001b[1;34m'327_x'\u001b[0m\u001b[1;33m,\u001b[0m\u001b[1;34m'328_x'\u001b[0m\u001b[1;33m,\u001b[0m\u001b[1;34m'329_x'\u001b[0m\u001b[1;33m,\u001b[0m\u001b[1;34m'330_x'\u001b[0m\u001b[1;33m,\u001b[0m\u001b[1;34m'331_x'\u001b[0m\u001b[1;33m,\u001b[0m\u001b[1;34m'332_x'\u001b[0m\u001b[1;33m,\u001b[0m\u001b[1;34m'333_x'\u001b[0m\u001b[1;33m,\u001b[0m\u001b[1;34m'334_x'\u001b[0m\u001b[1;33m,\u001b[0m\u001b[1;34m'335_x'\u001b[0m\u001b[1;33m,\u001b[0m\u001b[1;34m'336_x'\u001b[0m\u001b[1;33m,\u001b[0m\u001b[1;34m'337_x'\u001b[0m\u001b[1;33m,\u001b[0m\u001b[1;34m'338_x'\u001b[0m\u001b[1;33m,\u001b[0m\u001b[1;34m'339_x'\u001b[0m\u001b[1;33m,\u001b[0m\u001b[1;34m'340_x'\u001b[0m\u001b[1;33m,\u001b[0m\u001b[1;34m'341_x'\u001b[0m\u001b[1;33m,\u001b[0m\u001b[1;34m'342_x'\u001b[0m\u001b[1;33m,\u001b[0m\u001b[1;34m'343_x'\u001b[0m\u001b[1;33m,\u001b[0m\u001b[1;34m'344_x'\u001b[0m\u001b[1;33m,\u001b[0m\u001b[1;34m'345_x'\u001b[0m\u001b[1;33m,\u001b[0m\u001b[1;34m'346_x'\u001b[0m\u001b[1;33m,\u001b[0m\u001b[1;34m'347_x'\u001b[0m\u001b[1;33m,\u001b[0m\u001b[1;34m'348_x'\u001b[0m\u001b[1;33m,\u001b[0m\u001b[1;34m'349_x'\u001b[0m\u001b[1;33m,\u001b[0m\u001b[1;34m'350_x'\u001b[0m\u001b[1;33m,\u001b[0m\u001b[1;34m'351_x'\u001b[0m\u001b[1;33m,\u001b[0m\u001b[1;34m'352_x'\u001b[0m\u001b[1;33m,\u001b[0m\u001b[1;34m'353_x'\u001b[0m\u001b[1;33m,\u001b[0m\u001b[1;34m'354_x'\u001b[0m\u001b[1;33m,\u001b[0m\u001b[1;34m'355_x'\u001b[0m\u001b[1;33m,\u001b[0m\u001b[1;34m'356_x'\u001b[0m\u001b[1;33m,\u001b[0m\u001b[1;34m'357_x'\u001b[0m\u001b[1;33m,\u001b[0m\u001b[1;34m'358_x'\u001b[0m\u001b[1;33m,\u001b[0m\u001b[1;34m'359_x'\u001b[0m\u001b[1;33m,\u001b[0m\u001b[1;34m'360_x'\u001b[0m\u001b[1;33m,\u001b[0m\u001b[1;34m'361_x'\u001b[0m\u001b[1;33m,\u001b[0m\u001b[1;34m'362_x'\u001b[0m\u001b[1;33m,\u001b[0m\u001b[1;34m'363_x'\u001b[0m\u001b[1;33m,\u001b[0m\u001b[1;34m'364_x'\u001b[0m\u001b[1;33m,\u001b[0m\u001b[1;34m'365_x'\u001b[0m\u001b[1;33m,\u001b[0m\u001b[1;34m'366_x'\u001b[0m\u001b[1;33m,\u001b[0m\u001b[1;34m'367_x'\u001b[0m\u001b[1;33m,\u001b[0m\u001b[1;34m'368_x'\u001b[0m\u001b[1;33m,\u001b[0m\u001b[1;34m'369_x'\u001b[0m\u001b[1;33m,\u001b[0m\u001b[1;34m'370_x'\u001b[0m\u001b[1;33m,\u001b[0m\u001b[1;34m'371_x'\u001b[0m\u001b[1;33m,\u001b[0m\u001b[1;34m'372_x'\u001b[0m\u001b[1;33m,\u001b[0m\u001b[1;34m'373_x'\u001b[0m\u001b[1;33m,\u001b[0m\u001b[1;34m'374_x'\u001b[0m\u001b[1;33m,\u001b[0m\u001b[1;34m'375_x'\u001b[0m\u001b[1;33m,\u001b[0m\u001b[1;34m'376_x'\u001b[0m\u001b[1;33m,\u001b[0m\u001b[1;34m'377_x'\u001b[0m\u001b[1;33m,\u001b[0m\u001b[1;34m'378_x'\u001b[0m\u001b[1;33m,\u001b[0m\u001b[1;34m'379_x'\u001b[0m\u001b[1;33m,\u001b[0m\u001b[1;34m'380_x'\u001b[0m\u001b[1;33m,\u001b[0m\u001b[1;34m'381_x'\u001b[0m\u001b[1;33m,\u001b[0m\u001b[1;34m'382_x'\u001b[0m\u001b[1;33m,\u001b[0m\u001b[1;34m'383_x'\u001b[0m\u001b[1;33m,\u001b[0m\u001b[1;34m'0_y'\u001b[0m\u001b[1;33m,\u001b[0m\u001b[1;34m'1_y'\u001b[0m\u001b[1;33m,\u001b[0m\u001b[1;34m'2_y'\u001b[0m\u001b[1;33m,\u001b[0m\u001b[1;34m'3_y'\u001b[0m\u001b[1;33m,\u001b[0m\u001b[1;34m'4_y'\u001b[0m\u001b[1;33m,\u001b[0m\u001b[1;34m'5_y'\u001b[0m\u001b[1;33m,\u001b[0m\u001b[1;34m'6_y'\u001b[0m\u001b[1;33m,\u001b[0m\u001b[1;34m'7_y'\u001b[0m\u001b[1;33m,\u001b[0m\u001b[1;34m'8_y'\u001b[0m\u001b[1;33m,\u001b[0m\u001b[1;34m'9_y'\u001b[0m\u001b[1;33m,\u001b[0m\u001b[1;34m'10_y'\u001b[0m\u001b[1;33m,\u001b[0m\u001b[1;34m'11_y'\u001b[0m\u001b[1;33m,\u001b[0m\u001b[1;34m'12_y'\u001b[0m\u001b[1;33m,\u001b[0m\u001b[1;34m'13_y'\u001b[0m\u001b[1;33m,\u001b[0m\u001b[1;34m'14_y'\u001b[0m\u001b[1;33m,\u001b[0m\u001b[1;34m'15_y'\u001b[0m\u001b[1;33m,\u001b[0m\u001b[1;34m'16_y'\u001b[0m\u001b[1;33m,\u001b[0m\u001b[1;34m'17_y'\u001b[0m\u001b[1;33m,\u001b[0m\u001b[1;34m'18_y'\u001b[0m\u001b[1;33m,\u001b[0m\u001b[1;34m'19_y'\u001b[0m\u001b[1;33m,\u001b[0m\u001b[1;34m'20_y'\u001b[0m\u001b[1;33m,\u001b[0m\u001b[1;34m'21_y'\u001b[0m\u001b[1;33m,\u001b[0m\u001b[1;34m'22_y'\u001b[0m\u001b[1;33m,\u001b[0m\u001b[1;34m'23_y'\u001b[0m\u001b[1;33m,\u001b[0m\u001b[1;34m'24_y'\u001b[0m\u001b[1;33m,\u001b[0m\u001b[1;34m'25_y'\u001b[0m\u001b[1;33m,\u001b[0m\u001b[1;34m'26_y'\u001b[0m\u001b[1;33m,\u001b[0m\u001b[1;34m'27_y'\u001b[0m\u001b[1;33m,\u001b[0m\u001b[1;34m'28_y'\u001b[0m\u001b[1;33m,\u001b[0m\u001b[1;34m'29_y'\u001b[0m\u001b[1;33m,\u001b[0m\u001b[1;34m'30_y'\u001b[0m\u001b[1;33m,\u001b[0m\u001b[1;34m'31_y'\u001b[0m\u001b[1;33m,\u001b[0m\u001b[1;34m'32_y'\u001b[0m\u001b[1;33m,\u001b[0m\u001b[1;34m'33_y'\u001b[0m\u001b[1;33m,\u001b[0m\u001b[1;34m'34_y'\u001b[0m\u001b[1;33m,\u001b[0m\u001b[1;34m'35_y'\u001b[0m\u001b[1;33m,\u001b[0m\u001b[1;34m'36_y'\u001b[0m\u001b[1;33m,\u001b[0m\u001b[1;34m'37_y'\u001b[0m\u001b[1;33m,\u001b[0m\u001b[1;34m'38_y'\u001b[0m\u001b[1;33m,\u001b[0m\u001b[1;34m'39_y'\u001b[0m\u001b[1;33m,\u001b[0m\u001b[1;34m'40_y'\u001b[0m\u001b[1;33m,\u001b[0m\u001b[1;34m'41_y'\u001b[0m\u001b[1;33m,\u001b[0m\u001b[1;34m'42_y'\u001b[0m\u001b[1;33m,\u001b[0m\u001b[1;34m'43_y'\u001b[0m\u001b[1;33m,\u001b[0m\u001b[1;34m'44_y'\u001b[0m\u001b[1;33m,\u001b[0m\u001b[1;34m'45_y'\u001b[0m\u001b[1;33m,\u001b[0m\u001b[1;34m'46_y'\u001b[0m\u001b[1;33m,\u001b[0m\u001b[1;34m'47_y'\u001b[0m\u001b[1;33m,\u001b[0m\u001b[1;34m'48_y'\u001b[0m\u001b[1;33m,\u001b[0m\u001b[1;34m'49_y'\u001b[0m\u001b[1;33m,\u001b[0m\u001b[1;34m'50_y'\u001b[0m\u001b[1;33m,\u001b[0m\u001b[1;34m'51_y'\u001b[0m\u001b[1;33m,\u001b[0m\u001b[1;34m'52_y'\u001b[0m\u001b[1;33m,\u001b[0m\u001b[1;34m'53_y'\u001b[0m\u001b[1;33m,\u001b[0m\u001b[1;34m'54_y'\u001b[0m\u001b[1;33m,\u001b[0m\u001b[1;34m'55_y'\u001b[0m\u001b[1;33m,\u001b[0m\u001b[1;34m'56_y'\u001b[0m\u001b[1;33m,\u001b[0m\u001b[1;34m'57_y'\u001b[0m\u001b[1;33m,\u001b[0m\u001b[1;34m'58_y'\u001b[0m\u001b[1;33m,\u001b[0m\u001b[1;34m'59_y'\u001b[0m\u001b[1;33m,\u001b[0m\u001b[1;34m'60_y'\u001b[0m\u001b[1;33m,\u001b[0m\u001b[1;34m'61_y'\u001b[0m\u001b[1;33m,\u001b[0m\u001b[1;34m'62_y'\u001b[0m\u001b[1;33m,\u001b[0m\u001b[1;34m'63_y'\u001b[0m\u001b[1;33m,\u001b[0m\u001b[1;34m'64_y'\u001b[0m\u001b[1;33m,\u001b[0m\u001b[1;34m'65_y'\u001b[0m\u001b[1;33m,\u001b[0m\u001b[1;34m'66_y'\u001b[0m\u001b[1;33m,\u001b[0m\u001b[1;34m'67_y'\u001b[0m\u001b[1;33m,\u001b[0m\u001b[1;34m'68_y'\u001b[0m\u001b[1;33m,\u001b[0m\u001b[1;34m'69_y'\u001b[0m\u001b[1;33m,\u001b[0m\u001b[1;34m'70_y'\u001b[0m\u001b[1;33m,\u001b[0m\u001b[1;34m'71_y'\u001b[0m\u001b[1;33m,\u001b[0m\u001b[1;34m'72_y'\u001b[0m\u001b[1;33m,\u001b[0m\u001b[1;34m'73_y'\u001b[0m\u001b[1;33m,\u001b[0m\u001b[1;34m'74_y'\u001b[0m\u001b[1;33m,\u001b[0m\u001b[1;34m'75_y'\u001b[0m\u001b[1;33m,\u001b[0m\u001b[1;34m'76_y'\u001b[0m\u001b[1;33m,\u001b[0m\u001b[1;34m'77_y'\u001b[0m\u001b[1;33m,\u001b[0m\u001b[1;34m'78_y'\u001b[0m\u001b[1;33m,\u001b[0m\u001b[1;34m'79_y'\u001b[0m\u001b[1;33m,\u001b[0m\u001b[1;34m'80_y'\u001b[0m\u001b[1;33m,\u001b[0m\u001b[1;34m'81_y'\u001b[0m\u001b[1;33m,\u001b[0m\u001b[1;34m'82_y'\u001b[0m\u001b[1;33m,\u001b[0m\u001b[1;34m'83_y'\u001b[0m\u001b[1;33m,\u001b[0m\u001b[1;34m'84_y'\u001b[0m\u001b[1;33m,\u001b[0m\u001b[1;34m'85_y'\u001b[0m\u001b[1;33m,\u001b[0m\u001b[1;34m'86_y'\u001b[0m\u001b[1;33m,\u001b[0m\u001b[1;34m'87_y'\u001b[0m\u001b[1;33m,\u001b[0m\u001b[1;34m'88_y'\u001b[0m\u001b[1;33m,\u001b[0m\u001b[1;34m'89_y'\u001b[0m\u001b[1;33m,\u001b[0m\u001b[1;34m'90_y'\u001b[0m\u001b[1;33m,\u001b[0m\u001b[1;34m'91_y'\u001b[0m\u001b[1;33m,\u001b[0m\u001b[1;34m'92_y'\u001b[0m\u001b[1;33m,\u001b[0m\u001b[1;34m'93_y'\u001b[0m\u001b[1;33m,\u001b[0m\u001b[1;34m'94_y'\u001b[0m\u001b[1;33m,\u001b[0m\u001b[1;34m'95_y'\u001b[0m\u001b[1;33m,\u001b[0m\u001b[1;34m'96_y'\u001b[0m\u001b[1;33m,\u001b[0m\u001b[1;34m'97_y'\u001b[0m\u001b[1;33m,\u001b[0m\u001b[1;34m'98_y'\u001b[0m\u001b[1;33m,\u001b[0m\u001b[1;34m'99_y'\u001b[0m\u001b[1;33m,\u001b[0m\u001b[1;34m'100_y'\u001b[0m\u001b[1;33m,\u001b[0m\u001b[1;34m'101_y'\u001b[0m\u001b[1;33m,\u001b[0m\u001b[1;34m'102_y'\u001b[0m\u001b[1;33m,\u001b[0m\u001b[1;34m'103_y'\u001b[0m\u001b[1;33m,\u001b[0m\u001b[1;34m'104_y'\u001b[0m\u001b[1;33m,\u001b[0m\u001b[1;34m'105_y'\u001b[0m\u001b[1;33m,\u001b[0m\u001b[1;34m'106_y'\u001b[0m\u001b[1;33m,\u001b[0m\u001b[1;34m'107_y'\u001b[0m\u001b[1;33m,\u001b[0m\u001b[1;34m'108_y'\u001b[0m\u001b[1;33m,\u001b[0m\u001b[1;34m'109_y'\u001b[0m\u001b[1;33m,\u001b[0m\u001b[1;34m'110_y'\u001b[0m\u001b[1;33m,\u001b[0m\u001b[1;34m'111_y'\u001b[0m\u001b[1;33m,\u001b[0m\u001b[1;34m'112_y'\u001b[0m\u001b[1;33m,\u001b[0m\u001b[1;34m'113_y'\u001b[0m\u001b[1;33m,\u001b[0m\u001b[1;34m'114_y'\u001b[0m\u001b[1;33m,\u001b[0m\u001b[1;34m'115_y'\u001b[0m\u001b[1;33m,\u001b[0m\u001b[1;34m'116_y'\u001b[0m\u001b[1;33m,\u001b[0m\u001b[1;34m'117_y'\u001b[0m\u001b[1;33m,\u001b[0m\u001b[1;34m'118_y'\u001b[0m\u001b[1;33m,\u001b[0m\u001b[1;34m'119_y'\u001b[0m\u001b[1;33m,\u001b[0m\u001b[1;34m'120_y'\u001b[0m\u001b[1;33m,\u001b[0m\u001b[1;34m'121_y'\u001b[0m\u001b[1;33m,\u001b[0m\u001b[1;34m'122_y'\u001b[0m\u001b[1;33m,\u001b[0m\u001b[1;34m'123_y'\u001b[0m\u001b[1;33m,\u001b[0m\u001b[1;34m'124_y'\u001b[0m\u001b[1;33m,\u001b[0m\u001b[1;34m'125_y'\u001b[0m\u001b[1;33m,\u001b[0m\u001b[1;34m'126_y'\u001b[0m\u001b[1;33m,\u001b[0m\u001b[1;34m'127_y'\u001b[0m\u001b[1;33m,\u001b[0m\u001b[1;34m'128_y'\u001b[0m\u001b[1;33m,\u001b[0m\u001b[1;34m'129_y'\u001b[0m\u001b[1;33m,\u001b[0m\u001b[1;34m'130_y'\u001b[0m\u001b[1;33m,\u001b[0m\u001b[1;34m'131_y'\u001b[0m\u001b[1;33m,\u001b[0m\u001b[1;34m'132_y'\u001b[0m\u001b[1;33m,\u001b[0m\u001b[1;34m'133_y'\u001b[0m\u001b[1;33m,\u001b[0m\u001b[1;34m'134_y'\u001b[0m\u001b[1;33m,\u001b[0m\u001b[1;34m'135_y'\u001b[0m\u001b[1;33m,\u001b[0m\u001b[1;34m'136_y'\u001b[0m\u001b[1;33m,\u001b[0m\u001b[1;34m'137_y'\u001b[0m\u001b[1;33m,\u001b[0m\u001b[1;34m'138_y'\u001b[0m\u001b[1;33m,\u001b[0m\u001b[1;34m'139_y'\u001b[0m\u001b[1;33m,\u001b[0m\u001b[1;34m'140_y'\u001b[0m\u001b[1;33m,\u001b[0m\u001b[1;34m'141_y'\u001b[0m\u001b[1;33m,\u001b[0m\u001b[1;34m'142_y'\u001b[0m\u001b[1;33m,\u001b[0m\u001b[1;34m'143_y'\u001b[0m\u001b[1;33m,\u001b[0m\u001b[1;34m'144_y'\u001b[0m\u001b[1;33m,\u001b[0m\u001b[1;34m'145_y'\u001b[0m\u001b[1;33m,\u001b[0m\u001b[1;34m'146_y'\u001b[0m\u001b[1;33m,\u001b[0m\u001b[1;34m'147_y'\u001b[0m\u001b[1;33m,\u001b[0m\u001b[1;34m'148_y'\u001b[0m\u001b[1;33m,\u001b[0m\u001b[1;34m'149_y'\u001b[0m\u001b[1;33m,\u001b[0m\u001b[1;34m'150_y'\u001b[0m\u001b[1;33m,\u001b[0m\u001b[1;34m'151_y'\u001b[0m\u001b[1;33m,\u001b[0m\u001b[1;34m'152_y'\u001b[0m\u001b[1;33m,\u001b[0m\u001b[1;34m'153_y'\u001b[0m\u001b[1;33m,\u001b[0m\u001b[1;34m'154_y'\u001b[0m\u001b[1;33m,\u001b[0m\u001b[1;34m'155_y'\u001b[0m\u001b[1;33m,\u001b[0m\u001b[1;34m'156_y'\u001b[0m\u001b[1;33m,\u001b[0m\u001b[1;34m'157_y'\u001b[0m\u001b[1;33m,\u001b[0m\u001b[1;34m'158_y'\u001b[0m\u001b[1;33m,\u001b[0m\u001b[1;34m'159_y'\u001b[0m\u001b[1;33m,\u001b[0m\u001b[1;34m'160_y'\u001b[0m\u001b[1;33m,\u001b[0m\u001b[1;34m'161_y'\u001b[0m\u001b[1;33m,\u001b[0m\u001b[1;34m'162_y'\u001b[0m\u001b[1;33m,\u001b[0m\u001b[1;34m'163_y'\u001b[0m\u001b[1;33m,\u001b[0m\u001b[1;34m'164_y'\u001b[0m\u001b[1;33m,\u001b[0m\u001b[1;34m'165_y'\u001b[0m\u001b[1;33m,\u001b[0m\u001b[1;34m'166_y'\u001b[0m\u001b[1;33m,\u001b[0m\u001b[1;34m'167_y'\u001b[0m\u001b[1;33m,\u001b[0m\u001b[1;34m'168_y'\u001b[0m\u001b[1;33m,\u001b[0m\u001b[1;34m'169_y'\u001b[0m\u001b[1;33m,\u001b[0m\u001b[1;34m'170_y'\u001b[0m\u001b[1;33m,\u001b[0m\u001b[1;34m'171_y'\u001b[0m\u001b[1;33m,\u001b[0m\u001b[1;34m'172_y'\u001b[0m\u001b[1;33m,\u001b[0m\u001b[1;34m'173_y'\u001b[0m\u001b[1;33m,\u001b[0m\u001b[1;34m'174_y'\u001b[0m\u001b[1;33m,\u001b[0m\u001b[1;34m'175_y'\u001b[0m\u001b[1;33m,\u001b[0m\u001b[1;34m'176_y'\u001b[0m\u001b[1;33m,\u001b[0m\u001b[1;34m'177_y'\u001b[0m\u001b[1;33m,\u001b[0m\u001b[1;34m'178_y'\u001b[0m\u001b[1;33m,\u001b[0m\u001b[1;34m'179_y'\u001b[0m\u001b[1;33m,\u001b[0m\u001b[1;34m'180_y'\u001b[0m\u001b[1;33m,\u001b[0m\u001b[1;34m'181_y'\u001b[0m\u001b[1;33m,\u001b[0m\u001b[1;34m'182_y'\u001b[0m\u001b[1;33m,\u001b[0m\u001b[1;34m'183_y'\u001b[0m\u001b[1;33m,\u001b[0m\u001b[1;34m'184_y'\u001b[0m\u001b[1;33m,\u001b[0m\u001b[1;34m'185_y'\u001b[0m\u001b[1;33m,\u001b[0m\u001b[1;34m'186_y'\u001b[0m\u001b[1;33m,\u001b[0m\u001b[1;34m'187_y'\u001b[0m\u001b[1;33m,\u001b[0m\u001b[1;34m'188_y'\u001b[0m\u001b[1;33m,\u001b[0m\u001b[1;34m'189_y'\u001b[0m\u001b[1;33m,\u001b[0m\u001b[1;34m'190_y'\u001b[0m\u001b[1;33m,\u001b[0m\u001b[1;34m'191_y'\u001b[0m\u001b[1;33m,\u001b[0m\u001b[1;34m'192_y'\u001b[0m\u001b[1;33m,\u001b[0m\u001b[1;34m'193_y'\u001b[0m\u001b[1;33m,\u001b[0m\u001b[1;34m'194_y'\u001b[0m\u001b[1;33m,\u001b[0m\u001b[1;34m'195_y'\u001b[0m\u001b[1;33m,\u001b[0m\u001b[1;34m'196_y'\u001b[0m\u001b[1;33m,\u001b[0m\u001b[1;34m'197_y'\u001b[0m\u001b[1;33m,\u001b[0m\u001b[1;34m'198_y'\u001b[0m\u001b[1;33m,\u001b[0m\u001b[1;34m'199_y'\u001b[0m\u001b[1;33m,\u001b[0m\u001b[1;34m'200_y'\u001b[0m\u001b[1;33m,\u001b[0m\u001b[1;34m'201_y'\u001b[0m\u001b[1;33m,\u001b[0m\u001b[1;34m'202_y'\u001b[0m\u001b[1;33m,\u001b[0m\u001b[1;34m'203_y'\u001b[0m\u001b[1;33m,\u001b[0m\u001b[1;34m'204_y'\u001b[0m\u001b[1;33m,\u001b[0m\u001b[1;34m'205_y'\u001b[0m\u001b[1;33m,\u001b[0m\u001b[1;34m'206_y'\u001b[0m\u001b[1;33m,\u001b[0m\u001b[1;34m'207_y'\u001b[0m\u001b[1;33m,\u001b[0m\u001b[1;34m'208_y'\u001b[0m\u001b[1;33m,\u001b[0m\u001b[1;34m'209_y'\u001b[0m\u001b[1;33m,\u001b[0m\u001b[1;34m'210_y'\u001b[0m\u001b[1;33m,\u001b[0m\u001b[1;34m'211_y'\u001b[0m\u001b[1;33m,\u001b[0m\u001b[1;34m'212_y'\u001b[0m\u001b[1;33m,\u001b[0m\u001b[1;34m'213_y'\u001b[0m\u001b[1;33m,\u001b[0m\u001b[1;34m'214_y'\u001b[0m\u001b[1;33m,\u001b[0m\u001b[1;34m'215_y'\u001b[0m\u001b[1;33m,\u001b[0m\u001b[1;34m'216_y'\u001b[0m\u001b[1;33m,\u001b[0m\u001b[1;34m'217_y'\u001b[0m\u001b[1;33m,\u001b[0m\u001b[1;34m'218_y'\u001b[0m\u001b[1;33m,\u001b[0m\u001b[1;34m'219_y'\u001b[0m\u001b[1;33m,\u001b[0m\u001b[1;34m'220_y'\u001b[0m\u001b[1;33m,\u001b[0m\u001b[1;34m'221_y'\u001b[0m\u001b[1;33m,\u001b[0m\u001b[1;34m'222_y'\u001b[0m\u001b[1;33m,\u001b[0m\u001b[1;34m'223_y'\u001b[0m\u001b[1;33m,\u001b[0m\u001b[1;34m'224_y'\u001b[0m\u001b[1;33m,\u001b[0m\u001b[1;34m'225_y'\u001b[0m\u001b[1;33m,\u001b[0m\u001b[1;34m'226_y'\u001b[0m\u001b[1;33m,\u001b[0m\u001b[1;34m'227_y'\u001b[0m\u001b[1;33m,\u001b[0m\u001b[1;34m'228_y'\u001b[0m\u001b[1;33m,\u001b[0m\u001b[1;34m'229_y'\u001b[0m\u001b[1;33m,\u001b[0m\u001b[1;34m'230_y'\u001b[0m\u001b[1;33m,\u001b[0m\u001b[1;34m'231_y'\u001b[0m\u001b[1;33m,\u001b[0m\u001b[1;34m'232_y'\u001b[0m\u001b[1;33m,\u001b[0m\u001b[1;34m'233_y'\u001b[0m\u001b[1;33m,\u001b[0m\u001b[1;34m'234_y'\u001b[0m\u001b[1;33m,\u001b[0m\u001b[1;34m'235_y'\u001b[0m\u001b[1;33m,\u001b[0m\u001b[1;34m'236_y'\u001b[0m\u001b[1;33m,\u001b[0m\u001b[1;34m'237_y'\u001b[0m\u001b[1;33m,\u001b[0m\u001b[1;34m'238_y'\u001b[0m\u001b[1;33m,\u001b[0m\u001b[1;34m'239_y'\u001b[0m\u001b[1;33m,\u001b[0m\u001b[1;34m'240_y'\u001b[0m\u001b[1;33m,\u001b[0m\u001b[1;34m'241_y'\u001b[0m\u001b[1;33m,\u001b[0m\u001b[1;34m'242_y'\u001b[0m\u001b[1;33m,\u001b[0m\u001b[1;34m'243_y'\u001b[0m\u001b[1;33m,\u001b[0m\u001b[1;34m'244_y'\u001b[0m\u001b[1;33m,\u001b[0m\u001b[1;34m'245_y'\u001b[0m\u001b[1;33m,\u001b[0m\u001b[1;34m'246_y'\u001b[0m\u001b[1;33m,\u001b[0m\u001b[1;34m'247_y'\u001b[0m\u001b[1;33m,\u001b[0m\u001b[1;34m'248_y'\u001b[0m\u001b[1;33m,\u001b[0m\u001b[1;34m'249_y'\u001b[0m\u001b[1;33m,\u001b[0m\u001b[1;34m'250_y'\u001b[0m\u001b[1;33m,\u001b[0m\u001b[1;34m'251_y'\u001b[0m\u001b[1;33m,\u001b[0m\u001b[1;34m'252_y'\u001b[0m\u001b[1;33m,\u001b[0m\u001b[1;34m'253_y'\u001b[0m\u001b[1;33m,\u001b[0m\u001b[1;34m'254_y'\u001b[0m\u001b[1;33m,\u001b[0m\u001b[1;34m'255_y'\u001b[0m\u001b[1;33m,\u001b[0m\u001b[1;34m'256_y'\u001b[0m\u001b[1;33m,\u001b[0m\u001b[1;34m'257_y'\u001b[0m\u001b[1;33m,\u001b[0m\u001b[1;34m'258_y'\u001b[0m\u001b[1;33m,\u001b[0m\u001b[1;34m'259_y'\u001b[0m\u001b[1;33m,\u001b[0m\u001b[1;34m'260_y'\u001b[0m\u001b[1;33m,\u001b[0m\u001b[1;34m'261_y'\u001b[0m\u001b[1;33m,\u001b[0m\u001b[1;34m'262_y'\u001b[0m\u001b[1;33m,\u001b[0m\u001b[1;34m'263_y'\u001b[0m\u001b[1;33m,\u001b[0m\u001b[1;34m'264_y'\u001b[0m\u001b[1;33m,\u001b[0m\u001b[1;34m'265_y'\u001b[0m\u001b[1;33m,\u001b[0m\u001b[1;34m'266_y'\u001b[0m\u001b[1;33m,\u001b[0m\u001b[1;34m'267_y'\u001b[0m\u001b[1;33m,\u001b[0m\u001b[1;34m'268_y'\u001b[0m\u001b[1;33m,\u001b[0m\u001b[1;34m'269_y'\u001b[0m\u001b[1;33m,\u001b[0m\u001b[1;34m'270_y'\u001b[0m\u001b[1;33m,\u001b[0m\u001b[1;34m'271_y'\u001b[0m\u001b[1;33m,\u001b[0m\u001b[1;34m'272_y'\u001b[0m\u001b[1;33m,\u001b[0m\u001b[1;34m'273_y'\u001b[0m\u001b[1;33m,\u001b[0m\u001b[1;34m'274_y'\u001b[0m\u001b[1;33m,\u001b[0m\u001b[1;34m'275_y'\u001b[0m\u001b[1;33m,\u001b[0m\u001b[1;34m'276_y'\u001b[0m\u001b[1;33m,\u001b[0m\u001b[1;34m'277_y'\u001b[0m\u001b[1;33m,\u001b[0m\u001b[1;34m'278_y'\u001b[0m\u001b[1;33m,\u001b[0m\u001b[1;34m'279_y'\u001b[0m\u001b[1;33m,\u001b[0m\u001b[1;34m'280_y'\u001b[0m\u001b[1;33m,\u001b[0m\u001b[1;34m'281_y'\u001b[0m\u001b[1;33m,\u001b[0m\u001b[1;34m'282_y'\u001b[0m\u001b[1;33m,\u001b[0m\u001b[1;34m'283_y'\u001b[0m\u001b[1;33m,\u001b[0m\u001b[1;34m'284_y'\u001b[0m\u001b[1;33m,\u001b[0m\u001b[1;34m'285_y'\u001b[0m\u001b[1;33m,\u001b[0m\u001b[1;34m'286_y'\u001b[0m\u001b[1;33m,\u001b[0m\u001b[1;34m'287_y'\u001b[0m\u001b[1;33m,\u001b[0m\u001b[1;34m'288_y'\u001b[0m\u001b[1;33m,\u001b[0m\u001b[1;34m'289_y'\u001b[0m\u001b[1;33m,\u001b[0m\u001b[1;34m'290_y'\u001b[0m\u001b[1;33m,\u001b[0m\u001b[1;34m'291_y'\u001b[0m\u001b[1;33m,\u001b[0m\u001b[1;34m'292_y'\u001b[0m\u001b[1;33m,\u001b[0m\u001b[1;34m'293_y'\u001b[0m\u001b[1;33m,\u001b[0m\u001b[1;34m'294_y'\u001b[0m\u001b[1;33m,\u001b[0m\u001b[1;34m'295_y'\u001b[0m\u001b[1;33m,\u001b[0m\u001b[1;34m'296_y'\u001b[0m\u001b[1;33m,\u001b[0m\u001b[1;34m'297_y'\u001b[0m\u001b[1;33m,\u001b[0m\u001b[1;34m'298_y'\u001b[0m\u001b[1;33m,\u001b[0m\u001b[1;34m'299_y'\u001b[0m\u001b[1;33m,\u001b[0m\u001b[1;34m'300_y'\u001b[0m\u001b[1;33m,\u001b[0m\u001b[1;34m'301_y'\u001b[0m\u001b[1;33m,\u001b[0m\u001b[1;34m'302_y'\u001b[0m\u001b[1;33m,\u001b[0m\u001b[1;34m'303_y'\u001b[0m\u001b[1;33m,\u001b[0m\u001b[1;34m'304_y'\u001b[0m\u001b[1;33m,\u001b[0m\u001b[1;34m'305_y'\u001b[0m\u001b[1;33m,\u001b[0m\u001b[1;34m'306_y'\u001b[0m\u001b[1;33m,\u001b[0m\u001b[1;34m'307_y'\u001b[0m\u001b[1;33m,\u001b[0m\u001b[1;34m'308_y'\u001b[0m\u001b[1;33m,\u001b[0m\u001b[1;34m'309_y'\u001b[0m\u001b[1;33m,\u001b[0m\u001b[1;34m'310_y'\u001b[0m\u001b[1;33m,\u001b[0m\u001b[1;34m'311_y'\u001b[0m\u001b[1;33m,\u001b[0m\u001b[1;34m'312_y'\u001b[0m\u001b[1;33m,\u001b[0m\u001b[1;34m'313_y'\u001b[0m\u001b[1;33m,\u001b[0m\u001b[1;34m'314_y'\u001b[0m\u001b[1;33m,\u001b[0m\u001b[1;34m'315_y'\u001b[0m\u001b[1;33m,\u001b[0m\u001b[1;34m'316_y'\u001b[0m\u001b[1;33m,\u001b[0m\u001b[1;34m'317_y'\u001b[0m\u001b[1;33m,\u001b[0m\u001b[1;34m'318_y'\u001b[0m\u001b[1;33m,\u001b[0m\u001b[1;34m'319_y'\u001b[0m\u001b[1;33m,\u001b[0m\u001b[1;34m'320_y'\u001b[0m\u001b[1;33m,\u001b[0m\u001b[1;34m'321_y'\u001b[0m\u001b[1;33m,\u001b[0m\u001b[1;34m'322_y'\u001b[0m\u001b[1;33m,\u001b[0m\u001b[1;34m'323_y'\u001b[0m\u001b[1;33m,\u001b[0m\u001b[1;34m'324_y'\u001b[0m\u001b[1;33m,\u001b[0m\u001b[1;34m'325_y'\u001b[0m\u001b[1;33m,\u001b[0m\u001b[1;34m'326_y'\u001b[0m\u001b[1;33m,\u001b[0m\u001b[1;34m'327_y'\u001b[0m\u001b[1;33m,\u001b[0m\u001b[1;34m'328_y'\u001b[0m\u001b[1;33m,\u001b[0m\u001b[1;34m'329_y'\u001b[0m\u001b[1;33m,\u001b[0m\u001b[1;34m'330_y'\u001b[0m\u001b[1;33m,\u001b[0m\u001b[1;34m'331_y'\u001b[0m\u001b[1;33m,\u001b[0m\u001b[1;34m'332_y'\u001b[0m\u001b[1;33m,\u001b[0m\u001b[1;34m'333_y'\u001b[0m\u001b[1;33m,\u001b[0m\u001b[1;34m'334_y'\u001b[0m\u001b[1;33m,\u001b[0m\u001b[1;34m'335_y'\u001b[0m\u001b[1;33m,\u001b[0m\u001b[1;34m'336_y'\u001b[0m\u001b[1;33m,\u001b[0m\u001b[1;34m'337_y'\u001b[0m\u001b[1;33m,\u001b[0m\u001b[1;34m'338_y'\u001b[0m\u001b[1;33m,\u001b[0m\u001b[1;34m'339_y'\u001b[0m\u001b[1;33m,\u001b[0m\u001b[1;34m'340_y'\u001b[0m\u001b[1;33m,\u001b[0m\u001b[1;34m'341_y'\u001b[0m\u001b[1;33m,\u001b[0m\u001b[1;34m'342_y'\u001b[0m\u001b[1;33m,\u001b[0m\u001b[1;34m'343_y'\u001b[0m\u001b[1;33m,\u001b[0m\u001b[1;34m'344_y'\u001b[0m\u001b[1;33m,\u001b[0m\u001b[1;34m'345_y'\u001b[0m\u001b[1;33m,\u001b[0m\u001b[1;34m'346_y'\u001b[0m\u001b[1;33m,\u001b[0m\u001b[1;34m'347_y'\u001b[0m\u001b[1;33m,\u001b[0m\u001b[1;34m'348_y'\u001b[0m\u001b[1;33m,\u001b[0m\u001b[1;34m'349_y'\u001b[0m\u001b[1;33m,\u001b[0m\u001b[1;34m'350_y'\u001b[0m\u001b[1;33m,\u001b[0m\u001b[1;34m'351_y'\u001b[0m\u001b[1;33m,\u001b[0m\u001b[1;34m'352_y'\u001b[0m\u001b[1;33m,\u001b[0m\u001b[1;34m'353_y'\u001b[0m\u001b[1;33m,\u001b[0m\u001b[1;34m'354_y'\u001b[0m\u001b[1;33m,\u001b[0m\u001b[1;34m'355_y'\u001b[0m\u001b[1;33m,\u001b[0m\u001b[1;34m'356_y'\u001b[0m\u001b[1;33m,\u001b[0m\u001b[1;34m'357_y'\u001b[0m\u001b[1;33m,\u001b[0m\u001b[1;34m'358_y'\u001b[0m\u001b[1;33m,\u001b[0m\u001b[1;34m'359_y'\u001b[0m\u001b[1;33m,\u001b[0m\u001b[1;34m'360_y'\u001b[0m\u001b[1;33m,\u001b[0m\u001b[1;34m'361_y'\u001b[0m\u001b[1;33m,\u001b[0m\u001b[1;34m'362_y'\u001b[0m\u001b[1;33m,\u001b[0m\u001b[1;34m'363_y'\u001b[0m\u001b[1;33m,\u001b[0m\u001b[1;34m'364_y'\u001b[0m\u001b[1;33m,\u001b[0m\u001b[1;34m'365_y'\u001b[0m\u001b[1;33m,\u001b[0m\u001b[1;34m'366_y'\u001b[0m\u001b[1;33m,\u001b[0m\u001b[1;34m'367_y'\u001b[0m\u001b[1;33m,\u001b[0m\u001b[1;34m'368_y'\u001b[0m\u001b[1;33m,\u001b[0m\u001b[1;34m'369_y'\u001b[0m\u001b[1;33m,\u001b[0m\u001b[1;34m'370_y'\u001b[0m\u001b[1;33m,\u001b[0m\u001b[1;34m'371_y'\u001b[0m\u001b[1;33m,\u001b[0m\u001b[1;34m'372_y'\u001b[0m\u001b[1;33m,\u001b[0m\u001b[1;34m'373_y'\u001b[0m\u001b[1;33m,\u001b[0m\u001b[1;34m'374_y'\u001b[0m\u001b[1;33m,\u001b[0m\u001b[1;34m'375_y'\u001b[0m\u001b[1;33m,\u001b[0m\u001b[1;34m'376_y'\u001b[0m\u001b[1;33m,\u001b[0m\u001b[1;34m'377_y'\u001b[0m\u001b[1;33m,\u001b[0m\u001b[1;34m'378_y'\u001b[0m\u001b[1;33m,\u001b[0m\u001b[1;34m'379_y'\u001b[0m\u001b[1;33m,\u001b[0m\u001b[1;34m'380_y'\u001b[0m\u001b[1;33m,\u001b[0m\u001b[1;34m'381_y'\u001b[0m\u001b[1;33m,\u001b[0m\u001b[1;34m'382_y'\u001b[0m\u001b[1;33m,\u001b[0m\u001b[1;34m'383_y'\u001b[0m\u001b[1;33m]\u001b[0m\u001b[1;33m,\u001b[0m \u001b[0mchunksize\u001b[0m\u001b[1;33m=\u001b[0m\u001b[0mchunksize\u001b[0m\u001b[1;33m,\u001b[0m \u001b[0miterator\u001b[0m\u001b[1;33m=\u001b[0m\u001b[1;32mTrue\u001b[0m\u001b[1;33m,\u001b[0m \u001b[0mencoding\u001b[0m\u001b[1;33m=\u001b[0m\u001b[1;34m'utf-8'\u001b[0m\u001b[1;33m,\u001b[0m \u001b[1;33m)\u001b[0m\u001b[1;33m:\u001b[0m\u001b[1;33m\u001b[0m\u001b[1;33m\u001b[0m\u001b[0m\n\u001b[0m\u001b[0;32m      9\u001b[0m         \u001b[0mdf\u001b[0m\u001b[1;33m.\u001b[0m\u001b[0mindex\u001b[0m \u001b[1;33m+=\u001b[0m \u001b[0mindex_start\u001b[0m\u001b[1;33m\u001b[0m\u001b[1;33m\u001b[0m\u001b[0m\n\u001b[0;32m     10\u001b[0m         \u001b[0mj\u001b[0m\u001b[1;33m+=\u001b[0m\u001b[1;36m1\u001b[0m\u001b[1;33m\u001b[0m\u001b[1;33m\u001b[0m\u001b[0m\n",
      "\u001b[1;32m~\\anaconda3\\lib\\site-packages\\pandas\\io\\parsers.py\u001b[0m in \u001b[0;36mparser_f\u001b[1;34m(filepath_or_buffer, sep, delimiter, header, names, index_col, usecols, squeeze, prefix, mangle_dupe_cols, dtype, engine, converters, true_values, false_values, skipinitialspace, skiprows, skipfooter, nrows, na_values, keep_default_na, na_filter, verbose, skip_blank_lines, parse_dates, infer_datetime_format, keep_date_col, date_parser, dayfirst, cache_dates, iterator, chunksize, compression, thousands, decimal, lineterminator, quotechar, quoting, doublequote, escapechar, comment, encoding, dialect, error_bad_lines, warn_bad_lines, delim_whitespace, low_memory, memory_map, float_precision)\u001b[0m\n\u001b[0;32m    674\u001b[0m         )\n\u001b[0;32m    675\u001b[0m \u001b[1;33m\u001b[0m\u001b[0m\n\u001b[1;32m--> 676\u001b[1;33m         \u001b[1;32mreturn\u001b[0m \u001b[0m_read\u001b[0m\u001b[1;33m(\u001b[0m\u001b[0mfilepath_or_buffer\u001b[0m\u001b[1;33m,\u001b[0m \u001b[0mkwds\u001b[0m\u001b[1;33m)\u001b[0m\u001b[1;33m\u001b[0m\u001b[1;33m\u001b[0m\u001b[0m\n\u001b[0m\u001b[0;32m    677\u001b[0m \u001b[1;33m\u001b[0m\u001b[0m\n\u001b[0;32m    678\u001b[0m     \u001b[0mparser_f\u001b[0m\u001b[1;33m.\u001b[0m\u001b[0m__name__\u001b[0m \u001b[1;33m=\u001b[0m \u001b[0mname\u001b[0m\u001b[1;33m\u001b[0m\u001b[1;33m\u001b[0m\u001b[0m\n",
      "\u001b[1;32m~\\anaconda3\\lib\\site-packages\\pandas\\io\\parsers.py\u001b[0m in \u001b[0;36m_read\u001b[1;34m(filepath_or_buffer, kwds)\u001b[0m\n\u001b[0;32m    446\u001b[0m \u001b[1;33m\u001b[0m\u001b[0m\n\u001b[0;32m    447\u001b[0m     \u001b[1;31m# Create the parser.\u001b[0m\u001b[1;33m\u001b[0m\u001b[1;33m\u001b[0m\u001b[1;33m\u001b[0m\u001b[0m\n\u001b[1;32m--> 448\u001b[1;33m     \u001b[0mparser\u001b[0m \u001b[1;33m=\u001b[0m \u001b[0mTextFileReader\u001b[0m\u001b[1;33m(\u001b[0m\u001b[0mfp_or_buf\u001b[0m\u001b[1;33m,\u001b[0m \u001b[1;33m**\u001b[0m\u001b[0mkwds\u001b[0m\u001b[1;33m)\u001b[0m\u001b[1;33m\u001b[0m\u001b[1;33m\u001b[0m\u001b[0m\n\u001b[0m\u001b[0;32m    449\u001b[0m \u001b[1;33m\u001b[0m\u001b[0m\n\u001b[0;32m    450\u001b[0m     \u001b[1;32mif\u001b[0m \u001b[0mchunksize\u001b[0m \u001b[1;32mor\u001b[0m \u001b[0miterator\u001b[0m\u001b[1;33m:\u001b[0m\u001b[1;33m\u001b[0m\u001b[1;33m\u001b[0m\u001b[0m\n",
      "\u001b[1;32m~\\anaconda3\\lib\\site-packages\\pandas\\io\\parsers.py\u001b[0m in \u001b[0;36m__init__\u001b[1;34m(self, f, engine, **kwds)\u001b[0m\n\u001b[0;32m    878\u001b[0m             \u001b[0mself\u001b[0m\u001b[1;33m.\u001b[0m\u001b[0moptions\u001b[0m\u001b[1;33m[\u001b[0m\u001b[1;34m\"has_index_names\"\u001b[0m\u001b[1;33m]\u001b[0m \u001b[1;33m=\u001b[0m \u001b[0mkwds\u001b[0m\u001b[1;33m[\u001b[0m\u001b[1;34m\"has_index_names\"\u001b[0m\u001b[1;33m]\u001b[0m\u001b[1;33m\u001b[0m\u001b[1;33m\u001b[0m\u001b[0m\n\u001b[0;32m    879\u001b[0m \u001b[1;33m\u001b[0m\u001b[0m\n\u001b[1;32m--> 880\u001b[1;33m         \u001b[0mself\u001b[0m\u001b[1;33m.\u001b[0m\u001b[0m_make_engine\u001b[0m\u001b[1;33m(\u001b[0m\u001b[0mself\u001b[0m\u001b[1;33m.\u001b[0m\u001b[0mengine\u001b[0m\u001b[1;33m)\u001b[0m\u001b[1;33m\u001b[0m\u001b[1;33m\u001b[0m\u001b[0m\n\u001b[0m\u001b[0;32m    881\u001b[0m \u001b[1;33m\u001b[0m\u001b[0m\n\u001b[0;32m    882\u001b[0m     \u001b[1;32mdef\u001b[0m \u001b[0mclose\u001b[0m\u001b[1;33m(\u001b[0m\u001b[0mself\u001b[0m\u001b[1;33m)\u001b[0m\u001b[1;33m:\u001b[0m\u001b[1;33m\u001b[0m\u001b[1;33m\u001b[0m\u001b[0m\n",
      "\u001b[1;32m~\\anaconda3\\lib\\site-packages\\pandas\\io\\parsers.py\u001b[0m in \u001b[0;36m_make_engine\u001b[1;34m(self, engine)\u001b[0m\n\u001b[0;32m   1112\u001b[0m     \u001b[1;32mdef\u001b[0m \u001b[0m_make_engine\u001b[0m\u001b[1;33m(\u001b[0m\u001b[0mself\u001b[0m\u001b[1;33m,\u001b[0m \u001b[0mengine\u001b[0m\u001b[1;33m=\u001b[0m\u001b[1;34m\"c\"\u001b[0m\u001b[1;33m)\u001b[0m\u001b[1;33m:\u001b[0m\u001b[1;33m\u001b[0m\u001b[1;33m\u001b[0m\u001b[0m\n\u001b[0;32m   1113\u001b[0m         \u001b[1;32mif\u001b[0m \u001b[0mengine\u001b[0m \u001b[1;33m==\u001b[0m \u001b[1;34m\"c\"\u001b[0m\u001b[1;33m:\u001b[0m\u001b[1;33m\u001b[0m\u001b[1;33m\u001b[0m\u001b[0m\n\u001b[1;32m-> 1114\u001b[1;33m             \u001b[0mself\u001b[0m\u001b[1;33m.\u001b[0m\u001b[0m_engine\u001b[0m \u001b[1;33m=\u001b[0m \u001b[0mCParserWrapper\u001b[0m\u001b[1;33m(\u001b[0m\u001b[0mself\u001b[0m\u001b[1;33m.\u001b[0m\u001b[0mf\u001b[0m\u001b[1;33m,\u001b[0m \u001b[1;33m**\u001b[0m\u001b[0mself\u001b[0m\u001b[1;33m.\u001b[0m\u001b[0moptions\u001b[0m\u001b[1;33m)\u001b[0m\u001b[1;33m\u001b[0m\u001b[1;33m\u001b[0m\u001b[0m\n\u001b[0m\u001b[0;32m   1115\u001b[0m         \u001b[1;32melse\u001b[0m\u001b[1;33m:\u001b[0m\u001b[1;33m\u001b[0m\u001b[1;33m\u001b[0m\u001b[0m\n\u001b[0;32m   1116\u001b[0m             \u001b[1;32mif\u001b[0m \u001b[0mengine\u001b[0m \u001b[1;33m==\u001b[0m \u001b[1;34m\"python\"\u001b[0m\u001b[1;33m:\u001b[0m\u001b[1;33m\u001b[0m\u001b[1;33m\u001b[0m\u001b[0m\n",
      "\u001b[1;32m~\\anaconda3\\lib\\site-packages\\pandas\\io\\parsers.py\u001b[0m in \u001b[0;36m__init__\u001b[1;34m(self, src, **kwds)\u001b[0m\n\u001b[0;32m   1872\u001b[0m         \u001b[1;32mif\u001b[0m \u001b[0mkwds\u001b[0m\u001b[1;33m.\u001b[0m\u001b[0mget\u001b[0m\u001b[1;33m(\u001b[0m\u001b[1;34m\"compression\"\u001b[0m\u001b[1;33m)\u001b[0m \u001b[1;32mis\u001b[0m \u001b[1;32mNone\u001b[0m \u001b[1;32mand\u001b[0m \u001b[0mencoding\u001b[0m\u001b[1;33m:\u001b[0m\u001b[1;33m\u001b[0m\u001b[1;33m\u001b[0m\u001b[0m\n\u001b[0;32m   1873\u001b[0m             \u001b[1;32mif\u001b[0m \u001b[0misinstance\u001b[0m\u001b[1;33m(\u001b[0m\u001b[0msrc\u001b[0m\u001b[1;33m,\u001b[0m \u001b[0mstr\u001b[0m\u001b[1;33m)\u001b[0m\u001b[1;33m:\u001b[0m\u001b[1;33m\u001b[0m\u001b[1;33m\u001b[0m\u001b[0m\n\u001b[1;32m-> 1874\u001b[1;33m                 \u001b[0msrc\u001b[0m \u001b[1;33m=\u001b[0m \u001b[0mopen\u001b[0m\u001b[1;33m(\u001b[0m\u001b[0msrc\u001b[0m\u001b[1;33m,\u001b[0m \u001b[1;34m\"rb\"\u001b[0m\u001b[1;33m)\u001b[0m\u001b[1;33m\u001b[0m\u001b[1;33m\u001b[0m\u001b[0m\n\u001b[0m\u001b[0;32m   1875\u001b[0m                 \u001b[0mself\u001b[0m\u001b[1;33m.\u001b[0m\u001b[0mhandles\u001b[0m\u001b[1;33m.\u001b[0m\u001b[0mappend\u001b[0m\u001b[1;33m(\u001b[0m\u001b[0msrc\u001b[0m\u001b[1;33m)\u001b[0m\u001b[1;33m\u001b[0m\u001b[1;33m\u001b[0m\u001b[0m\n\u001b[0;32m   1876\u001b[0m \u001b[1;33m\u001b[0m\u001b[0m\n",
      "\u001b[1;31mFileNotFoundError\u001b[0m: [Errno 2] No such file or directory: 'final_features.csv'"
     ]
    }
   ],
   "source": [
    "#Creating db file from csv\n",
    "if not os.path.isfile('train.db'):\n",
    "    disk_engine = create_engine('sqlite:///train.db')\n",
    "    start = dt.datetime.now()\n",
    "    chunksize = 180000\n",
    "    j = 0\n",
    "    index_start = 1\n",
    "    for df in pd.read_csv('final_features.csv', names=['Unnamed: 0','id','is_duplicate','cwc_min','cwc_max','csc_min','csc_max','ctc_min','ctc_max','last_word_eq','first_word_eq','abs_len_diff','mean_len','token_set_ratio','token_sort_ratio','fuzz_ratio','fuzz_partial_ratio','longest_substr_ratio','freq_qid1','freq_qid2','q1len','q2len','q1_n_words','q2_n_words','word_Common','word_Total','word_share','freq_q1+q2','freq_q1-q2','0_x','1_x','2_x','3_x','4_x','5_x','6_x','7_x','8_x','9_x','10_x','11_x','12_x','13_x','14_x','15_x','16_x','17_x','18_x','19_x','20_x','21_x','22_x','23_x','24_x','25_x','26_x','27_x','28_x','29_x','30_x','31_x','32_x','33_x','34_x','35_x','36_x','37_x','38_x','39_x','40_x','41_x','42_x','43_x','44_x','45_x','46_x','47_x','48_x','49_x','50_x','51_x','52_x','53_x','54_x','55_x','56_x','57_x','58_x','59_x','60_x','61_x','62_x','63_x','64_x','65_x','66_x','67_x','68_x','69_x','70_x','71_x','72_x','73_x','74_x','75_x','76_x','77_x','78_x','79_x','80_x','81_x','82_x','83_x','84_x','85_x','86_x','87_x','88_x','89_x','90_x','91_x','92_x','93_x','94_x','95_x','96_x','97_x','98_x','99_x','100_x','101_x','102_x','103_x','104_x','105_x','106_x','107_x','108_x','109_x','110_x','111_x','112_x','113_x','114_x','115_x','116_x','117_x','118_x','119_x','120_x','121_x','122_x','123_x','124_x','125_x','126_x','127_x','128_x','129_x','130_x','131_x','132_x','133_x','134_x','135_x','136_x','137_x','138_x','139_x','140_x','141_x','142_x','143_x','144_x','145_x','146_x','147_x','148_x','149_x','150_x','151_x','152_x','153_x','154_x','155_x','156_x','157_x','158_x','159_x','160_x','161_x','162_x','163_x','164_x','165_x','166_x','167_x','168_x','169_x','170_x','171_x','172_x','173_x','174_x','175_x','176_x','177_x','178_x','179_x','180_x','181_x','182_x','183_x','184_x','185_x','186_x','187_x','188_x','189_x','190_x','191_x','192_x','193_x','194_x','195_x','196_x','197_x','198_x','199_x','200_x','201_x','202_x','203_x','204_x','205_x','206_x','207_x','208_x','209_x','210_x','211_x','212_x','213_x','214_x','215_x','216_x','217_x','218_x','219_x','220_x','221_x','222_x','223_x','224_x','225_x','226_x','227_x','228_x','229_x','230_x','231_x','232_x','233_x','234_x','235_x','236_x','237_x','238_x','239_x','240_x','241_x','242_x','243_x','244_x','245_x','246_x','247_x','248_x','249_x','250_x','251_x','252_x','253_x','254_x','255_x','256_x','257_x','258_x','259_x','260_x','261_x','262_x','263_x','264_x','265_x','266_x','267_x','268_x','269_x','270_x','271_x','272_x','273_x','274_x','275_x','276_x','277_x','278_x','279_x','280_x','281_x','282_x','283_x','284_x','285_x','286_x','287_x','288_x','289_x','290_x','291_x','292_x','293_x','294_x','295_x','296_x','297_x','298_x','299_x','300_x','301_x','302_x','303_x','304_x','305_x','306_x','307_x','308_x','309_x','310_x','311_x','312_x','313_x','314_x','315_x','316_x','317_x','318_x','319_x','320_x','321_x','322_x','323_x','324_x','325_x','326_x','327_x','328_x','329_x','330_x','331_x','332_x','333_x','334_x','335_x','336_x','337_x','338_x','339_x','340_x','341_x','342_x','343_x','344_x','345_x','346_x','347_x','348_x','349_x','350_x','351_x','352_x','353_x','354_x','355_x','356_x','357_x','358_x','359_x','360_x','361_x','362_x','363_x','364_x','365_x','366_x','367_x','368_x','369_x','370_x','371_x','372_x','373_x','374_x','375_x','376_x','377_x','378_x','379_x','380_x','381_x','382_x','383_x','0_y','1_y','2_y','3_y','4_y','5_y','6_y','7_y','8_y','9_y','10_y','11_y','12_y','13_y','14_y','15_y','16_y','17_y','18_y','19_y','20_y','21_y','22_y','23_y','24_y','25_y','26_y','27_y','28_y','29_y','30_y','31_y','32_y','33_y','34_y','35_y','36_y','37_y','38_y','39_y','40_y','41_y','42_y','43_y','44_y','45_y','46_y','47_y','48_y','49_y','50_y','51_y','52_y','53_y','54_y','55_y','56_y','57_y','58_y','59_y','60_y','61_y','62_y','63_y','64_y','65_y','66_y','67_y','68_y','69_y','70_y','71_y','72_y','73_y','74_y','75_y','76_y','77_y','78_y','79_y','80_y','81_y','82_y','83_y','84_y','85_y','86_y','87_y','88_y','89_y','90_y','91_y','92_y','93_y','94_y','95_y','96_y','97_y','98_y','99_y','100_y','101_y','102_y','103_y','104_y','105_y','106_y','107_y','108_y','109_y','110_y','111_y','112_y','113_y','114_y','115_y','116_y','117_y','118_y','119_y','120_y','121_y','122_y','123_y','124_y','125_y','126_y','127_y','128_y','129_y','130_y','131_y','132_y','133_y','134_y','135_y','136_y','137_y','138_y','139_y','140_y','141_y','142_y','143_y','144_y','145_y','146_y','147_y','148_y','149_y','150_y','151_y','152_y','153_y','154_y','155_y','156_y','157_y','158_y','159_y','160_y','161_y','162_y','163_y','164_y','165_y','166_y','167_y','168_y','169_y','170_y','171_y','172_y','173_y','174_y','175_y','176_y','177_y','178_y','179_y','180_y','181_y','182_y','183_y','184_y','185_y','186_y','187_y','188_y','189_y','190_y','191_y','192_y','193_y','194_y','195_y','196_y','197_y','198_y','199_y','200_y','201_y','202_y','203_y','204_y','205_y','206_y','207_y','208_y','209_y','210_y','211_y','212_y','213_y','214_y','215_y','216_y','217_y','218_y','219_y','220_y','221_y','222_y','223_y','224_y','225_y','226_y','227_y','228_y','229_y','230_y','231_y','232_y','233_y','234_y','235_y','236_y','237_y','238_y','239_y','240_y','241_y','242_y','243_y','244_y','245_y','246_y','247_y','248_y','249_y','250_y','251_y','252_y','253_y','254_y','255_y','256_y','257_y','258_y','259_y','260_y','261_y','262_y','263_y','264_y','265_y','266_y','267_y','268_y','269_y','270_y','271_y','272_y','273_y','274_y','275_y','276_y','277_y','278_y','279_y','280_y','281_y','282_y','283_y','284_y','285_y','286_y','287_y','288_y','289_y','290_y','291_y','292_y','293_y','294_y','295_y','296_y','297_y','298_y','299_y','300_y','301_y','302_y','303_y','304_y','305_y','306_y','307_y','308_y','309_y','310_y','311_y','312_y','313_y','314_y','315_y','316_y','317_y','318_y','319_y','320_y','321_y','322_y','323_y','324_y','325_y','326_y','327_y','328_y','329_y','330_y','331_y','332_y','333_y','334_y','335_y','336_y','337_y','338_y','339_y','340_y','341_y','342_y','343_y','344_y','345_y','346_y','347_y','348_y','349_y','350_y','351_y','352_y','353_y','354_y','355_y','356_y','357_y','358_y','359_y','360_y','361_y','362_y','363_y','364_y','365_y','366_y','367_y','368_y','369_y','370_y','371_y','372_y','373_y','374_y','375_y','376_y','377_y','378_y','379_y','380_y','381_y','382_y','383_y'], chunksize=chunksize, iterator=True, encoding='utf-8', ):\n",
    "        df.index += index_start\n",
    "        j+=1\n",
    "        print('{} rows'.format(j*chunksize))\n",
    "        df.to_sql('data', disk_engine, if_exists='append')\n",
    "        index_start = df.index[-1] + 1"
   ]
  },
  {
   "cell_type": "code",
   "execution_count": null,
   "metadata": {},
   "outputs": [],
   "source": []
  }
 ],
 "metadata": {
  "colab": {
   "name": "1.Quora.ipynb",
   "provenance": [],
   "version": "0.3.2"
  },
  "kernelspec": {
   "display_name": "Python 3",
   "language": "python",
   "name": "python3"
  },
  "language_info": {
   "codemirror_mode": {
    "name": "ipython",
    "version": 3
   },
   "file_extension": ".py",
   "mimetype": "text/x-python",
   "name": "python",
   "nbconvert_exporter": "python",
   "pygments_lexer": "ipython3",
   "version": "3.7.6"
  }
 },
 "nbformat": 4,
 "nbformat_minor": 1
}
