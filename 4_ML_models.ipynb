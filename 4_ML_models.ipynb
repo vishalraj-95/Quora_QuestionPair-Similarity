{
  "nbformat": 4,
  "nbformat_minor": 0,
  "metadata": {
    "colab": {
      "name": "4.ML_models.ipynb",
      "provenance": [],
      "collapsed_sections": []
    },
    "kernelspec": {
      "display_name": "Python 3",
      "language": "python",
      "name": "python3"
    },
    "language_info": {
      "codemirror_mode": {
        "name": "ipython",
        "version": 3
      },
      "file_extension": ".py",
      "mimetype": "text/x-python",
      "name": "python",
      "nbconvert_exporter": "python",
      "pygments_lexer": "ipython3",
      "version": "3.7.6"
    }
  },
  "cells": [
    {
      "cell_type": "code",
      "metadata": {
        "id": "mJWFL6iJ8oQj",
        "colab_type": "code",
        "colab": {
          "base_uri": "https://localhost:8080/",
          "height": 34
        },
        "outputId": "1e1152d0-a607-4da5-de70-64ec962b7808"
      },
      "source": [
        "from google.colab import drive\n",
        "drive.mount('/content/gdrive')"
      ],
      "execution_count": 1,
      "outputs": [
        {
          "output_type": "stream",
          "text": [
            "Drive already mounted at /content/gdrive; to attempt to forcibly remount, call drive.mount(\"/content/gdrive\", force_remount=True).\n"
          ],
          "name": "stdout"
        }
      ]
    },
    {
      "cell_type": "code",
      "metadata": {
        "id": "mUYxa-oGL5GW",
        "colab_type": "code",
        "colab": {
          "base_uri": "https://localhost:8080/",
          "height": 34
        },
        "outputId": "3274a880-8979-476a-9687-5b394ec01436"
      },
      "source": [
        "import keras"
      ],
      "execution_count": 18,
      "outputs": [
        {
          "output_type": "stream",
          "text": [
            "Using TensorFlow backend.\n"
          ],
          "name": "stderr"
        }
      ]
    },
    {
      "cell_type": "code",
      "metadata": {
        "colab_type": "code",
        "id": "6VXPfRp-tARR",
        "colab": {}
      },
      "source": [
        "import pandas as pd\n",
        "import matplotlib.pyplot as plt\n",
        "import re\n",
        "import time\n",
        "import warnings\n",
        "import sqlite3\n",
        "from sqlalchemy import create_engine # database connection\n",
        "import csv\n",
        "import os\n",
        "warnings.filterwarnings(\"ignore\")\n",
        "import datetime as dt\n",
        "import numpy as np\n",
        "from nltk.corpus import stopwords\n",
        "from sklearn.decomposition import TruncatedSVD\n",
        "from sklearn.preprocessing import normalize\n",
        "from sklearn.feature_extraction.text import CountVectorizer\n",
        "from sklearn.manifold import TSNE\n",
        "import seaborn as sns\n",
        "from sklearn.neighbors import KNeighborsClassifier\n",
        "from sklearn.metrics import confusion_matrix\n",
        "from sklearn.metrics.classification import accuracy_score, log_loss\n",
        "from sklearn.feature_extraction.text import TfidfVectorizer\n",
        "from collections import Counter\n",
        "from scipy.sparse import hstack\n",
        "from sklearn.multiclass import OneVsRestClassifier\n",
        "from sklearn.svm import SVC\n",
        "from sklearn.model_selection import StratifiedKFold \n",
        "from collections import Counter, defaultdict\n",
        "from sklearn.calibration import CalibratedClassifierCV\n",
        "from sklearn.naive_bayes import MultinomialNB\n",
        "from sklearn.naive_bayes import GaussianNB\n",
        "from sklearn.model_selection import train_test_split\n",
        "from sklearn.model_selection import GridSearchCV\n",
        "import math\n",
        "from sklearn.metrics import normalized_mutual_info_score\n",
        "from sklearn.ensemble import RandomForestClassifier\n",
        "from sklearn.model_selection import cross_val_score\n",
        "from sklearn.linear_model import SGDClassifier\n",
        "from mlxtend.classifier import StackingClassifier\n",
        "from sklearn import model_selection\n",
        "from sklearn.linear_model import LogisticRegression\n",
        "from sklearn.metrics import precision_recall_curve, auc, roc_curve"
      ],
      "execution_count": 2,
      "outputs": []
    },
    {
      "cell_type": "markdown",
      "metadata": {
        "colab_type": "text",
        "id": "ZihvUPvHtARd"
      },
      "source": [
        "<h1>4. Machine Learning Models </h1>"
      ]
    },
    {
      "cell_type": "markdown",
      "metadata": {
        "colab_type": "text",
        "id": "CtN9VBPutARf"
      },
      "source": [
        "<h2> 4.1 Reading data from CSV file  </h2>"
      ]
    },
    {
      "cell_type": "code",
      "metadata": {
        "id": "ZC5Ztd6tYbVr",
        "colab_type": "code",
        "colab": {
          "base_uri": "https://localhost:8080/",
          "height": 34
        },
        "outputId": "0f64a5c2-1249-4d70-89fb-cdfd234cd756"
      },
      "source": [
        "df = pd.read_csv('/content/gdrive/My Drive/Quora/final_features.csv')\n",
        "\n",
        "print(\"Number of data points:\",df.shape[0])"
      ],
      "execution_count": 3,
      "outputs": [
        {
          "output_type": "stream",
          "text": [
            "Number of data points: 404290\n"
          ],
          "name": "stdout"
        }
      ]
    },
    {
      "cell_type": "markdown",
      "metadata": {
        "id": "AczZkzMKBivJ",
        "colab_type": "text"
      },
      "source": [
        "<h5> We have taken a random sample of 20000 </h5>"
      ]
    },
    {
      "cell_type": "code",
      "metadata": {
        "colab_type": "code",
        "id": "QKSenpsmtAR9",
        "colab": {
          "base_uri": "https://localhost:8080/",
          "height": 34
        },
        "outputId": "7946633b-f410-4abc-93c4-345d279199cd"
      },
      "source": [
        "data = df.sample(20000, random_state=1)\n",
        "data.head()\n",
        "print(\"Number of data points:\",data.shape[0])"
      ],
      "execution_count": 5,
      "outputs": [
        {
          "output_type": "stream",
          "text": [
            "Number of data points: 20000\n"
          ],
          "name": "stdout"
        }
      ]
    },
    {
      "cell_type": "code",
      "metadata": {
        "id": "bZyBhSU1aL08",
        "colab_type": "code",
        "colab": {
          "base_uri": "https://localhost:8080/",
          "height": 34
        },
        "outputId": "87446c08-a97f-4a4d-ea12-0a991090b01c"
      },
      "source": [
        "label=data['is_duplicate'].values\n",
        "print(label)"
      ],
      "execution_count": 6,
      "outputs": [
        {
          "output_type": "stream",
          "text": [
            "[0 1 1 ... 0 1 0]\n"
          ],
          "name": "stdout"
        }
      ]
    },
    {
      "cell_type": "code",
      "metadata": {
        "id": "PeALIURBa4kS",
        "colab_type": "code",
        "colab": {}
      },
      "source": [
        "data.drop(['Unnamed: 0', 'id','is_duplicate'], axis=1, inplace=True)"
      ],
      "execution_count": 7,
      "outputs": []
    },
    {
      "cell_type": "code",
      "metadata": {
        "id": "VkHIRz-GbGL9",
        "colab_type": "code",
        "colab": {
          "base_uri": "https://localhost:8080/",
          "height": 261
        },
        "outputId": "295e37e0-f35d-4a01-c4a0-a7b7ce5d5e31"
      },
      "source": [
        "data.head()"
      ],
      "execution_count": 8,
      "outputs": [
        {
          "output_type": "execute_result",
          "data": {
            "text/html": [
              "<div>\n",
              "<style scoped>\n",
              "    .dataframe tbody tr th:only-of-type {\n",
              "        vertical-align: middle;\n",
              "    }\n",
              "\n",
              "    .dataframe tbody tr th {\n",
              "        vertical-align: top;\n",
              "    }\n",
              "\n",
              "    .dataframe thead th {\n",
              "        text-align: right;\n",
              "    }\n",
              "</style>\n",
              "<table border=\"1\" class=\"dataframe\">\n",
              "  <thead>\n",
              "    <tr style=\"text-align: right;\">\n",
              "      <th></th>\n",
              "      <th>cwc_min</th>\n",
              "      <th>cwc_max</th>\n",
              "      <th>csc_min</th>\n",
              "      <th>csc_max</th>\n",
              "      <th>ctc_min</th>\n",
              "      <th>ctc_max</th>\n",
              "      <th>last_word_eq</th>\n",
              "      <th>first_word_eq</th>\n",
              "      <th>abs_len_diff</th>\n",
              "      <th>mean_len</th>\n",
              "      <th>token_set_ratio</th>\n",
              "      <th>token_sort_ratio</th>\n",
              "      <th>fuzz_ratio</th>\n",
              "      <th>fuzz_partial_ratio</th>\n",
              "      <th>longest_substr_ratio</th>\n",
              "      <th>freq_qid1</th>\n",
              "      <th>freq_qid2</th>\n",
              "      <th>q1len</th>\n",
              "      <th>q2len</th>\n",
              "      <th>q1_n_words</th>\n",
              "      <th>q2_n_words</th>\n",
              "      <th>word_Common</th>\n",
              "      <th>word_Total</th>\n",
              "      <th>word_share</th>\n",
              "      <th>freq_q1+q2</th>\n",
              "      <th>freq_q1-q2</th>\n",
              "      <th>0_x</th>\n",
              "      <th>1_x</th>\n",
              "      <th>2_x</th>\n",
              "      <th>3_x</th>\n",
              "      <th>4_x</th>\n",
              "      <th>5_x</th>\n",
              "      <th>6_x</th>\n",
              "      <th>7_x</th>\n",
              "      <th>8_x</th>\n",
              "      <th>9_x</th>\n",
              "      <th>10_x</th>\n",
              "      <th>11_x</th>\n",
              "      <th>12_x</th>\n",
              "      <th>13_x</th>\n",
              "      <th>...</th>\n",
              "      <th>344_y</th>\n",
              "      <th>345_y</th>\n",
              "      <th>346_y</th>\n",
              "      <th>347_y</th>\n",
              "      <th>348_y</th>\n",
              "      <th>349_y</th>\n",
              "      <th>350_y</th>\n",
              "      <th>351_y</th>\n",
              "      <th>352_y</th>\n",
              "      <th>353_y</th>\n",
              "      <th>354_y</th>\n",
              "      <th>355_y</th>\n",
              "      <th>356_y</th>\n",
              "      <th>357_y</th>\n",
              "      <th>358_y</th>\n",
              "      <th>359_y</th>\n",
              "      <th>360_y</th>\n",
              "      <th>361_y</th>\n",
              "      <th>362_y</th>\n",
              "      <th>363_y</th>\n",
              "      <th>364_y</th>\n",
              "      <th>365_y</th>\n",
              "      <th>366_y</th>\n",
              "      <th>367_y</th>\n",
              "      <th>368_y</th>\n",
              "      <th>369_y</th>\n",
              "      <th>370_y</th>\n",
              "      <th>371_y</th>\n",
              "      <th>372_y</th>\n",
              "      <th>373_y</th>\n",
              "      <th>374_y</th>\n",
              "      <th>375_y</th>\n",
              "      <th>376_y</th>\n",
              "      <th>377_y</th>\n",
              "      <th>378_y</th>\n",
              "      <th>379_y</th>\n",
              "      <th>380_y</th>\n",
              "      <th>381_y</th>\n",
              "      <th>382_y</th>\n",
              "      <th>383_y</th>\n",
              "    </tr>\n",
              "  </thead>\n",
              "  <tbody>\n",
              "    <tr>\n",
              "      <th>237030</th>\n",
              "      <td>0.999975</td>\n",
              "      <td>0.799984</td>\n",
              "      <td>0.333322</td>\n",
              "      <td>0.249994</td>\n",
              "      <td>0.714276</td>\n",
              "      <td>0.555549</td>\n",
              "      <td>0.0</td>\n",
              "      <td>0.0</td>\n",
              "      <td>2.0</td>\n",
              "      <td>8.0</td>\n",
              "      <td>87</td>\n",
              "      <td>69</td>\n",
              "      <td>72</td>\n",
              "      <td>86</td>\n",
              "      <td>0.777778</td>\n",
              "      <td>3</td>\n",
              "      <td>1</td>\n",
              "      <td>35</td>\n",
              "      <td>48</td>\n",
              "      <td>7</td>\n",
              "      <td>9</td>\n",
              "      <td>4.0</td>\n",
              "      <td>16.0</td>\n",
              "      <td>0.250000</td>\n",
              "      <td>4</td>\n",
              "      <td>2</td>\n",
              "      <td>10.970957</td>\n",
              "      <td>52.661914</td>\n",
              "      <td>-1.970236</td>\n",
              "      <td>9.302651</td>\n",
              "      <td>29.648324</td>\n",
              "      <td>5.435167</td>\n",
              "      <td>-91.848207</td>\n",
              "      <td>-0.902373</td>\n",
              "      <td>41.087506</td>\n",
              "      <td>-1.751418</td>\n",
              "      <td>28.520241</td>\n",
              "      <td>-28.196045</td>\n",
              "      <td>3.676136</td>\n",
              "      <td>14.501568</td>\n",
              "      <td>...</td>\n",
              "      <td>-13.389205</td>\n",
              "      <td>-8.253764</td>\n",
              "      <td>-15.128262</td>\n",
              "      <td>17.342256</td>\n",
              "      <td>17.082075</td>\n",
              "      <td>-5.855299</td>\n",
              "      <td>-12.923584</td>\n",
              "      <td>-2.540541</td>\n",
              "      <td>-21.804266</td>\n",
              "      <td>-0.120796</td>\n",
              "      <td>10.413910</td>\n",
              "      <td>-27.523986</td>\n",
              "      <td>-13.799361</td>\n",
              "      <td>-21.173159</td>\n",
              "      <td>-17.131617</td>\n",
              "      <td>-23.762303</td>\n",
              "      <td>-1.509795</td>\n",
              "      <td>20.472379</td>\n",
              "      <td>12.861113</td>\n",
              "      <td>3.407759</td>\n",
              "      <td>-19.466014</td>\n",
              "      <td>-0.632004</td>\n",
              "      <td>-7.399157</td>\n",
              "      <td>-11.646690</td>\n",
              "      <td>19.268139</td>\n",
              "      <td>22.138560</td>\n",
              "      <td>-12.705452</td>\n",
              "      <td>3.560176</td>\n",
              "      <td>-6.902003</td>\n",
              "      <td>-10.270756</td>\n",
              "      <td>15.541796</td>\n",
              "      <td>24.279622</td>\n",
              "      <td>-1.084654</td>\n",
              "      <td>3.564971</td>\n",
              "      <td>10.743494</td>\n",
              "      <td>0.552786</td>\n",
              "      <td>-4.736965</td>\n",
              "      <td>-1.061310</td>\n",
              "      <td>16.139841</td>\n",
              "      <td>5.618809</td>\n",
              "    </tr>\n",
              "    <tr>\n",
              "      <th>247341</th>\n",
              "      <td>0.999980</td>\n",
              "      <td>0.833319</td>\n",
              "      <td>0.333322</td>\n",
              "      <td>0.249994</td>\n",
              "      <td>0.749991</td>\n",
              "      <td>0.599994</td>\n",
              "      <td>0.0</td>\n",
              "      <td>0.0</td>\n",
              "      <td>2.0</td>\n",
              "      <td>9.0</td>\n",
              "      <td>92</td>\n",
              "      <td>83</td>\n",
              "      <td>50</td>\n",
              "      <td>50</td>\n",
              "      <td>0.361702</td>\n",
              "      <td>18</td>\n",
              "      <td>8</td>\n",
              "      <td>46</td>\n",
              "      <td>57</td>\n",
              "      <td>8</td>\n",
              "      <td>10</td>\n",
              "      <td>4.0</td>\n",
              "      <td>18.0</td>\n",
              "      <td>0.222222</td>\n",
              "      <td>26</td>\n",
              "      <td>10</td>\n",
              "      <td>-74.852121</td>\n",
              "      <td>56.719026</td>\n",
              "      <td>74.294639</td>\n",
              "      <td>49.667311</td>\n",
              "      <td>-46.767715</td>\n",
              "      <td>26.277071</td>\n",
              "      <td>-2.182075</td>\n",
              "      <td>-59.296898</td>\n",
              "      <td>13.332387</td>\n",
              "      <td>-56.455269</td>\n",
              "      <td>-73.729530</td>\n",
              "      <td>40.731590</td>\n",
              "      <td>-53.935134</td>\n",
              "      <td>-40.338337</td>\n",
              "      <td>...</td>\n",
              "      <td>-11.274293</td>\n",
              "      <td>-0.577516</td>\n",
              "      <td>-8.177575</td>\n",
              "      <td>7.623605</td>\n",
              "      <td>-0.586651</td>\n",
              "      <td>-3.340251</td>\n",
              "      <td>-12.226482</td>\n",
              "      <td>-12.762811</td>\n",
              "      <td>-16.601491</td>\n",
              "      <td>8.428593</td>\n",
              "      <td>14.892291</td>\n",
              "      <td>0.956153</td>\n",
              "      <td>-8.896898</td>\n",
              "      <td>-15.077139</td>\n",
              "      <td>6.111784</td>\n",
              "      <td>-9.903766</td>\n",
              "      <td>-27.838417</td>\n",
              "      <td>25.380312</td>\n",
              "      <td>3.037267</td>\n",
              "      <td>-9.373386</td>\n",
              "      <td>-12.811730</td>\n",
              "      <td>7.934534</td>\n",
              "      <td>2.860229</td>\n",
              "      <td>3.542374</td>\n",
              "      <td>8.823065</td>\n",
              "      <td>6.619441</td>\n",
              "      <td>25.917166</td>\n",
              "      <td>13.418070</td>\n",
              "      <td>-8.564787</td>\n",
              "      <td>-9.644828</td>\n",
              "      <td>-4.573235</td>\n",
              "      <td>6.491506</td>\n",
              "      <td>15.182020</td>\n",
              "      <td>-7.179826</td>\n",
              "      <td>17.243974</td>\n",
              "      <td>7.197206</td>\n",
              "      <td>-3.277284</td>\n",
              "      <td>-6.035078</td>\n",
              "      <td>17.060630</td>\n",
              "      <td>-0.391529</td>\n",
              "    </tr>\n",
              "    <tr>\n",
              "      <th>246425</th>\n",
              "      <td>0.857131</td>\n",
              "      <td>0.499996</td>\n",
              "      <td>0.999986</td>\n",
              "      <td>0.538457</td>\n",
              "      <td>0.866661</td>\n",
              "      <td>0.464284</td>\n",
              "      <td>0.0</td>\n",
              "      <td>0.0</td>\n",
              "      <td>13.0</td>\n",
              "      <td>21.5</td>\n",
              "      <td>94</td>\n",
              "      <td>70</td>\n",
              "      <td>51</td>\n",
              "      <td>60</td>\n",
              "      <td>0.294872</td>\n",
              "      <td>1</td>\n",
              "      <td>1</td>\n",
              "      <td>139</td>\n",
              "      <td>77</td>\n",
              "      <td>28</td>\n",
              "      <td>14</td>\n",
              "      <td>12.0</td>\n",
              "      <td>39.0</td>\n",
              "      <td>0.307692</td>\n",
              "      <td>2</td>\n",
              "      <td>0</td>\n",
              "      <td>60.703030</td>\n",
              "      <td>69.938425</td>\n",
              "      <td>9.268642</td>\n",
              "      <td>177.649136</td>\n",
              "      <td>-13.193215</td>\n",
              "      <td>-61.015597</td>\n",
              "      <td>-142.457516</td>\n",
              "      <td>-101.509864</td>\n",
              "      <td>47.526842</td>\n",
              "      <td>2.958984</td>\n",
              "      <td>-16.939491</td>\n",
              "      <td>-61.218803</td>\n",
              "      <td>56.308950</td>\n",
              "      <td>-98.135878</td>\n",
              "      <td>...</td>\n",
              "      <td>-16.397805</td>\n",
              "      <td>-9.702977</td>\n",
              "      <td>-11.278803</td>\n",
              "      <td>11.844387</td>\n",
              "      <td>26.846940</td>\n",
              "      <td>-9.751659</td>\n",
              "      <td>9.914098</td>\n",
              "      <td>11.522607</td>\n",
              "      <td>-17.754213</td>\n",
              "      <td>10.334519</td>\n",
              "      <td>2.282577</td>\n",
              "      <td>0.234717</td>\n",
              "      <td>-2.061708</td>\n",
              "      <td>-6.752329</td>\n",
              "      <td>-12.175223</td>\n",
              "      <td>-35.599529</td>\n",
              "      <td>-21.730282</td>\n",
              "      <td>-2.967579</td>\n",
              "      <td>28.099058</td>\n",
              "      <td>0.562055</td>\n",
              "      <td>-40.932064</td>\n",
              "      <td>-43.254536</td>\n",
              "      <td>14.593158</td>\n",
              "      <td>-13.083710</td>\n",
              "      <td>-4.395023</td>\n",
              "      <td>25.654898</td>\n",
              "      <td>-8.952881</td>\n",
              "      <td>-5.133479</td>\n",
              "      <td>5.926941</td>\n",
              "      <td>5.581442</td>\n",
              "      <td>1.456484</td>\n",
              "      <td>8.435493</td>\n",
              "      <td>11.414817</td>\n",
              "      <td>6.804104</td>\n",
              "      <td>8.421999</td>\n",
              "      <td>-0.574465</td>\n",
              "      <td>8.384996</td>\n",
              "      <td>-1.276727</td>\n",
              "      <td>7.017889</td>\n",
              "      <td>1.996982</td>\n",
              "    </tr>\n",
              "    <tr>\n",
              "      <th>306985</th>\n",
              "      <td>0.374995</td>\n",
              "      <td>0.333330</td>\n",
              "      <td>0.333328</td>\n",
              "      <td>0.285710</td>\n",
              "      <td>0.312498</td>\n",
              "      <td>0.312498</td>\n",
              "      <td>0.0</td>\n",
              "      <td>1.0</td>\n",
              "      <td>0.0</td>\n",
              "      <td>16.0</td>\n",
              "      <td>65</td>\n",
              "      <td>56</td>\n",
              "      <td>58</td>\n",
              "      <td>58</td>\n",
              "      <td>0.137931</td>\n",
              "      <td>22</td>\n",
              "      <td>12</td>\n",
              "      <td>86</td>\n",
              "      <td>86</td>\n",
              "      <td>16</td>\n",
              "      <td>16</td>\n",
              "      <td>5.0</td>\n",
              "      <td>30.0</td>\n",
              "      <td>0.166667</td>\n",
              "      <td>34</td>\n",
              "      <td>10</td>\n",
              "      <td>14.547318</td>\n",
              "      <td>-8.698120</td>\n",
              "      <td>15.588878</td>\n",
              "      <td>63.515180</td>\n",
              "      <td>34.126732</td>\n",
              "      <td>-75.757584</td>\n",
              "      <td>-67.447161</td>\n",
              "      <td>-25.298202</td>\n",
              "      <td>70.922303</td>\n",
              "      <td>-66.822902</td>\n",
              "      <td>-134.726354</td>\n",
              "      <td>-113.018231</td>\n",
              "      <td>-39.657850</td>\n",
              "      <td>-7.415661</td>\n",
              "      <td>...</td>\n",
              "      <td>-21.066978</td>\n",
              "      <td>-6.943582</td>\n",
              "      <td>-27.142463</td>\n",
              "      <td>34.986831</td>\n",
              "      <td>33.789662</td>\n",
              "      <td>-7.939730</td>\n",
              "      <td>-24.159237</td>\n",
              "      <td>-4.539394</td>\n",
              "      <td>-26.086032</td>\n",
              "      <td>22.354042</td>\n",
              "      <td>22.767683</td>\n",
              "      <td>-12.715310</td>\n",
              "      <td>0.375346</td>\n",
              "      <td>-26.108376</td>\n",
              "      <td>-8.531717</td>\n",
              "      <td>-46.724826</td>\n",
              "      <td>-22.998547</td>\n",
              "      <td>8.143460</td>\n",
              "      <td>19.446226</td>\n",
              "      <td>20.865428</td>\n",
              "      <td>-41.624146</td>\n",
              "      <td>-22.547542</td>\n",
              "      <td>2.067047</td>\n",
              "      <td>-11.355334</td>\n",
              "      <td>21.156275</td>\n",
              "      <td>13.718439</td>\n",
              "      <td>-15.766997</td>\n",
              "      <td>3.377278</td>\n",
              "      <td>-15.189643</td>\n",
              "      <td>-4.107619</td>\n",
              "      <td>7.384348</td>\n",
              "      <td>8.333197</td>\n",
              "      <td>-7.982698</td>\n",
              "      <td>-11.083688</td>\n",
              "      <td>14.895152</td>\n",
              "      <td>12.997106</td>\n",
              "      <td>-16.526316</td>\n",
              "      <td>25.528210</td>\n",
              "      <td>2.079667</td>\n",
              "      <td>4.253652</td>\n",
              "    </tr>\n",
              "    <tr>\n",
              "      <th>225863</th>\n",
              "      <td>0.499975</td>\n",
              "      <td>0.166664</td>\n",
              "      <td>0.000000</td>\n",
              "      <td>0.000000</td>\n",
              "      <td>0.166664</td>\n",
              "      <td>0.083333</td>\n",
              "      <td>0.0</td>\n",
              "      <td>0.0</td>\n",
              "      <td>6.0</td>\n",
              "      <td>9.0</td>\n",
              "      <td>46</td>\n",
              "      <td>50</td>\n",
              "      <td>42</td>\n",
              "      <td>52</td>\n",
              "      <td>0.250000</td>\n",
              "      <td>1</td>\n",
              "      <td>1</td>\n",
              "      <td>51</td>\n",
              "      <td>27</td>\n",
              "      <td>11</td>\n",
              "      <td>5</td>\n",
              "      <td>1.0</td>\n",
              "      <td>16.0</td>\n",
              "      <td>0.062500</td>\n",
              "      <td>2</td>\n",
              "      <td>0</td>\n",
              "      <td>3.426041</td>\n",
              "      <td>48.919198</td>\n",
              "      <td>2.438086</td>\n",
              "      <td>51.189243</td>\n",
              "      <td>-17.773721</td>\n",
              "      <td>-20.105832</td>\n",
              "      <td>-71.078669</td>\n",
              "      <td>-56.328944</td>\n",
              "      <td>76.404898</td>\n",
              "      <td>13.084416</td>\n",
              "      <td>-30.953925</td>\n",
              "      <td>-58.607520</td>\n",
              "      <td>-69.018068</td>\n",
              "      <td>8.331540</td>\n",
              "      <td>...</td>\n",
              "      <td>-1.369583</td>\n",
              "      <td>3.770206</td>\n",
              "      <td>-8.086478</td>\n",
              "      <td>6.422257</td>\n",
              "      <td>2.423324</td>\n",
              "      <td>0.232510</td>\n",
              "      <td>-4.392708</td>\n",
              "      <td>4.246530</td>\n",
              "      <td>-1.651018</td>\n",
              "      <td>5.340778</td>\n",
              "      <td>10.574885</td>\n",
              "      <td>2.554422</td>\n",
              "      <td>0.459843</td>\n",
              "      <td>-5.690212</td>\n",
              "      <td>0.425004</td>\n",
              "      <td>-8.331588</td>\n",
              "      <td>-7.391040</td>\n",
              "      <td>5.223335</td>\n",
              "      <td>-0.598196</td>\n",
              "      <td>2.157444</td>\n",
              "      <td>-7.835177</td>\n",
              "      <td>-6.598424</td>\n",
              "      <td>6.275539</td>\n",
              "      <td>-2.393158</td>\n",
              "      <td>13.361722</td>\n",
              "      <td>5.662277</td>\n",
              "      <td>-1.810119</td>\n",
              "      <td>-0.276869</td>\n",
              "      <td>-0.005134</td>\n",
              "      <td>1.771141</td>\n",
              "      <td>3.478832</td>\n",
              "      <td>-1.127358</td>\n",
              "      <td>3.052045</td>\n",
              "      <td>-5.041393</td>\n",
              "      <td>-2.972081</td>\n",
              "      <td>-1.884729</td>\n",
              "      <td>1.807124</td>\n",
              "      <td>5.334406</td>\n",
              "      <td>11.486700</td>\n",
              "      <td>2.549569</td>\n",
              "    </tr>\n",
              "  </tbody>\n",
              "</table>\n",
              "<p>5 rows × 794 columns</p>\n",
              "</div>"
            ],
            "text/plain": [
              "         cwc_min   cwc_max   csc_min  ...      381_y      382_y     383_y\n",
              "237030  0.999975  0.799984  0.333322  ...  -1.061310  16.139841  5.618809\n",
              "247341  0.999980  0.833319  0.333322  ...  -6.035078  17.060630 -0.391529\n",
              "246425  0.857131  0.499996  0.999986  ...  -1.276727   7.017889  1.996982\n",
              "306985  0.374995  0.333330  0.333328  ...  25.528210   2.079667  4.253652\n",
              "225863  0.499975  0.166664  0.000000  ...   5.334406  11.486700  2.549569\n",
              "\n",
              "[5 rows x 794 columns]"
            ]
          },
          "metadata": {
            "tags": []
          },
          "execution_count": 8
        }
      ]
    },
    {
      "cell_type": "markdown",
      "metadata": {
        "colab_type": "text",
        "id": "CuMTqWGutASO"
      },
      "source": [
        "<h2> 4.2 Random train test split( 70:30) </h2>"
      ]
    },
    {
      "cell_type": "code",
      "metadata": {
        "colab_type": "code",
        "id": "3Rat2obGtASP",
        "colab": {}
      },
      "source": [
        "X_train,X_test, y_train, y_test = train_test_split(data,label, stratify=label, test_size=0.3)"
      ],
      "execution_count": 9,
      "outputs": []
    },
    {
      "cell_type": "code",
      "metadata": {
        "colab_type": "code",
        "id": "1Iw9zCHqtASS",
        "colab": {
          "base_uri": "https://localhost:8080/",
          "height": 50
        },
        "outputId": "9f060ca0-f7f1-4dcd-c571-748506a04490"
      },
      "source": [
        "print(\"Number of data points in train data :\",X_train.shape)\n",
        "print(\"Number of data points in test data :\",X_test.shape)"
      ],
      "execution_count": 10,
      "outputs": [
        {
          "output_type": "stream",
          "text": [
            "Number of data points in train data : (14000, 794)\n",
            "Number of data points in test data : (6000, 794)\n"
          ],
          "name": "stdout"
        }
      ]
    },
    {
      "cell_type": "code",
      "metadata": {
        "colab_type": "code",
        "id": "0oDV15LJtASY",
        "colab": {
          "base_uri": "https://localhost:8080/",
          "height": 84
        },
        "outputId": "9a2ab9d0-9d59-4dd3-ef8f-6b0018356590"
      },
      "source": [
        "print(\"-\"*10, \"Distribution of output variable in train data\", \"-\"*10)\n",
        "train_distr = Counter(y_train)\n",
        "train_len = len(y_train)\n",
        "print(\"Class 0: \",int(train_distr[0])/train_len,\"Class 1: \", int(train_distr[1])/train_len)\n",
        "print(\"-\"*10, \"Distribution of output variable in train data\", \"-\"*10)\n",
        "test_distr = Counter(y_test)\n",
        "test_len = len(y_test)\n",
        "print(\"Class 0: \",int(test_distr[1])/test_len, \"Class 1: \",int(test_distr[1])/test_len)"
      ],
      "execution_count": 11,
      "outputs": [
        {
          "output_type": "stream",
          "text": [
            "---------- Distribution of output variable in train data ----------\n",
            "Class 0:  0.6317142857142857 Class 1:  0.36828571428571427\n",
            "---------- Distribution of output variable in train data ----------\n",
            "Class 0:  0.36833333333333335 Class 1:  0.36833333333333335\n"
          ],
          "name": "stdout"
        }
      ]
    },
    {
      "cell_type": "code",
      "metadata": {
        "colab_type": "code",
        "id": "XfxcPT6jtASg",
        "colab": {}
      },
      "source": [
        "# This function plots the confusion matrices given y_i, y_i_hat.\n",
        "def plot_confusion_matrix(test_y, predict_y):\n",
        "    C = confusion_matrix(test_y, predict_y)\n",
        "    # C = 9,9 matrix, each cell (i,j) represents number of points of class i are predicted class j\n",
        "    \n",
        "    A =(((C.T)/(C.sum(axis=1))).T)\n",
        "    #divid each element of the confusion matrix with the sum of elements in that column\n",
        "    \n",
        "    # C = [[1, 2],\n",
        "    #     [3, 4]]\n",
        "    # C.T = [[1, 3],\n",
        "    #        [2, 4]]\n",
        "    # C.sum(axis = 1)  axis=0 corresonds to columns and axis=1 corresponds to rows in two diamensional array\n",
        "    # C.sum(axix =1) = [[3, 7]]\n",
        "    # ((C.T)/(C.sum(axis=1))) = [[1/3, 3/7]\n",
        "    #                           [2/3, 4/7]]\n",
        "\n",
        "    # ((C.T)/(C.sum(axis=1))).T = [[1/3, 2/3]\n",
        "    #                           [3/7, 4/7]]\n",
        "    # sum of row elements = 1\n",
        "    \n",
        "    B =(C/C.sum(axis=0))\n",
        "    #divid each element of the confusion matrix with the sum of elements in that row\n",
        "    # C = [[1, 2],\n",
        "    #     [3, 4]]\n",
        "    # C.sum(axis = 0)  axis=0 corresonds to columns and axis=1 corresponds to rows in two diamensional array\n",
        "    # C.sum(axix =0) = [[4, 6]]\n",
        "    # (C/C.sum(axis=0)) = [[1/4, 2/6],\n",
        "    #                      [3/4, 4/6]] \n",
        "    plt.figure(figsize=(20,4))\n",
        "    \n",
        "    labels = [1,2]\n",
        "    # representing A in heatmap format\n",
        "    cmap=sns.light_palette(\"blue\")\n",
        "    plt.subplot(1, 3, 1)\n",
        "    sns.heatmap(C, annot=True, cmap=cmap, fmt=\".3f\", xticklabels=labels, yticklabels=labels)\n",
        "    plt.xlabel('Predicted Class')\n",
        "    plt.ylabel('Original Class')\n",
        "    plt.title(\"Confusion matrix\")\n",
        "    \n",
        "    plt.subplot(1, 3, 2)\n",
        "    sns.heatmap(B, annot=True, cmap=cmap, fmt=\".3f\", xticklabels=labels, yticklabels=labels)\n",
        "    plt.xlabel('Predicted Class')\n",
        "    plt.ylabel('Original Class')\n",
        "    plt.title(\"Precision matrix\")\n",
        "    \n",
        "    plt.subplot(1, 3, 3)\n",
        "    # representing B in heatmap format\n",
        "    sns.heatmap(A, annot=True, cmap=cmap, fmt=\".3f\", xticklabels=labels, yticklabels=labels)\n",
        "    plt.xlabel('Predicted Class')\n",
        "    plt.ylabel('Original Class')\n",
        "    plt.title(\"Recall matrix\")\n",
        "    \n",
        "    plt.show()"
      ],
      "execution_count": 12,
      "outputs": []
    },
    {
      "cell_type": "markdown",
      "metadata": {
        "colab_type": "text",
        "id": "UStQJ5F_tASk"
      },
      "source": [
        "<h2> 4.3 Building a random model (Finding worst-case log-loss) </h2>"
      ]
    },
    {
      "cell_type": "code",
      "metadata": {
        "colab_type": "code",
        "id": "qwMDqcU7tASl",
        "colab": {
          "base_uri": "https://localhost:8080/",
          "height": 300
        },
        "outputId": "a93eadd2-7bf1-41f1-95c4-758409cb3382"
      },
      "source": [
        "# we need to generate 9 numbers and the sum of numbers should be 1\n",
        "# one solution is to genarate 9 numbers and divide each of the numbers by their sum\n",
        "# ref: https://stackoverflow.com/a/18662466/4084039\n",
        "# we create a output array that has exactly same size as the CV data\n",
        "predicted_y = np.zeros((test_len,2))\n",
        "for i in range(test_len):\n",
        "    rand_probs = np.random.rand(1,2)\n",
        "    predicted_y[i] = ((rand_probs/sum(sum(rand_probs)))[0])\n",
        "print(\"Log loss on Test Data using Random Model\",log_loss(y_test, predicted_y, eps=1e-15))\n",
        "\n",
        "predicted_y =np.argmax(predicted_y, axis=1)\n",
        "plot_confusion_matrix(y_test, predicted_y)"
      ],
      "execution_count": 13,
      "outputs": [
        {
          "output_type": "stream",
          "text": [
            "Log loss on Test Data using Random Model 0.8937651778495865\n"
          ],
          "name": "stdout"
        },
        {
          "output_type": "display_data",
          "data": {
            "image/png": "[encoded data removed]",
            "text/plain": [
              "<Figure size 1440x288 with 6 Axes>"
            ]
          },
          "metadata": {
            "tags": [],
            "needs_background": "light"
          }
        }
      ]
    },
    {
      "cell_type": "markdown",
      "metadata": {
        "colab_type": "text",
        "id": "YgY29g_qtASq"
      },
      "source": [
        "<h2> 4.4 Logistic Regression with hyperparameter tuning </h2>"
      ]
    },
    {
      "cell_type": "code",
      "metadata": {
        "colab_type": "code",
        "id": "Wb2tOE3GtASr",
        "colab": {
          "base_uri": "https://localhost:8080/",
          "height": 734
        },
        "outputId": "863e6abd-f613-4c5e-9ba2-88dbb6329505"
      },
      "source": [
        "alpha = [10 ** x for x in range(-5, 2)] # hyperparam for SGD classifier.\n",
        "\n",
        "# read more about SGDClassifier() at http://scikit-learn.org/stable/modules/generated/sklearn.linear_model.SGDClassifier.html\n",
        "# ------------------------------\n",
        "# default parameters\n",
        "# SGDClassifier(loss=’hinge’, penalty=’l2’, alpha=0.0001, l1_ratio=0.15, fit_intercept=True, max_iter=None, tol=None, \n",
        "# shuffle=True, verbose=0, epsilon=0.1, n_jobs=1, random_state=None, learning_rate=’optimal’, eta0=0.0, power_t=0.5, \n",
        "# class_weight=None, warm_start=False, average=False, n_iter=None)\n",
        "\n",
        "# some of methods\n",
        "# fit(X, y[, coef_init, intercept_init, …])\tFit linear model with Stochastic Gradient Descent.\n",
        "# predict(X)\tPredict class labels for samples in X.\n",
        "\n",
        "#-------------------------------\n",
        "# video link: \n",
        "#------------------------------\n",
        "\n",
        "\n",
        "log_error_array=[]\n",
        "for i in alpha:\n",
        "    clf = SGDClassifier(alpha=i, penalty='l2', loss='log', random_state=42)\n",
        "    clf.fit(X_train, y_train)\n",
        "    sig_clf = CalibratedClassifierCV(clf, method=\"sigmoid\")\n",
        "    sig_clf.fit(X_train, y_train)\n",
        "    predict_y = sig_clf.predict_proba(X_test)\n",
        "    log_error_array.append(log_loss(y_test, predict_y, labels=clf.classes_, eps=1e-15))\n",
        "    print('For values of alpha = ', i, \"The log loss is:\",log_loss(y_test, predict_y, labels=clf.classes_, eps=1e-15))\n",
        "\n",
        "fig, ax = plt.subplots()\n",
        "ax.plot(alpha, log_error_array,c='g')\n",
        "for i, txt in enumerate(np.round(log_error_array,3)):\n",
        "    ax.annotate((alpha[i],np.round(txt,3)), (alpha[i],log_error_array[i]))\n",
        "plt.grid()\n",
        "plt.title(\"Cross Validation Error for each alpha\")\n",
        "plt.xlabel(\"Alpha i's\")\n",
        "plt.ylabel(\"Error measure\")\n",
        "plt.show()\n",
        "\n",
        "\n",
        "best_alpha = np.argmin(log_error_array)\n",
        "clf = SGDClassifier(alpha=alpha[best_alpha], penalty='l2', loss='log', random_state=42)\n",
        "clf.fit(X_train, y_train)\n",
        "sig_clf = CalibratedClassifierCV(clf, method=\"sigmoid\")\n",
        "sig_clf.fit(X_train, y_train)\n",
        "\n",
        "predict_y = sig_clf.predict_proba(X_train)\n",
        "print('For values of best alpha = ', alpha[best_alpha], \"The train log loss is:\",log_loss(y_train, predict_y, labels=clf.classes_, eps=1e-15))\n",
        "predict_y = sig_clf.predict_proba(X_test)\n",
        "print('For values of best alpha = ', alpha[best_alpha], \"The test log loss is:\",log_loss(y_test, predict_y, labels=clf.classes_, eps=1e-15))\n",
        "predicted_y =np.argmax(predict_y,axis=1)\n",
        "print(\"Total number of data points :\", len(predicted_y))\n",
        "plot_confusion_matrix(y_test, predicted_y)"
      ],
      "execution_count": 14,
      "outputs": [
        {
          "output_type": "stream",
          "text": [
            "For values of alpha =  1e-05 The log loss is: 0.658062695239062\n",
            "For values of alpha =  0.0001 The log loss is: 0.5340768369723733\n",
            "For values of alpha =  0.001 The log loss is: 0.4842434395189358\n",
            "For values of alpha =  0.01 The log loss is: 0.48264056328556515\n",
            "For values of alpha =  0.1 The log loss is: 0.4755339965969359\n",
            "For values of alpha =  1 The log loss is: 0.49539527617287\n",
            "For values of alpha =  10 The log loss is: 0.5235056372813369\n"
          ],
          "name": "stdout"
        },
        {
          "output_type": "display_data",
          "data": {
            "image/png": "[encoded data removed]",
            "text/plain": [
              "<Figure size 432x288 with 1 Axes>"
            ]
          },
          "metadata": {
            "tags": [],
            "needs_background": "light"
          }
        },
        {
          "output_type": "stream",
          "text": [
            "For values of best alpha =  0.1 The train log loss is: 0.4339105521796712\n",
            "For values of best alpha =  0.1 The test log loss is: 0.4755339965969359\n",
            "Total number of data points : 6000\n"
          ],
          "name": "stdout"
        },
        {
          "output_type": "display_data",
          "data": {
            "image/png": "[encoded data removed]",
            "text/plain": [
              "<Figure size 1440x288 with 6 Axes>"
            ]
          },
          "metadata": {
            "tags": [],
            "needs_background": "light"
          }
        }
      ]
    },
    {
      "cell_type": "markdown",
      "metadata": {
        "colab_type": "text",
        "id": "ouQSEnr3tASy"
      },
      "source": [
        "<h2> 4.5 Linear SVM with hyperparameter tuning </h2>"
      ]
    },
    {
      "cell_type": "code",
      "metadata": {
        "colab_type": "code",
        "id": "AOFfZ5PLtAS0",
        "colab": {
          "base_uri": "https://localhost:8080/",
          "height": 734
        },
        "outputId": "5e559538-8ca5-4eab-9bdc-f01835745065"
      },
      "source": [
        "alpha = [10 ** x for x in range(-5, 2)] # hyperparam for SGD classifier.\n",
        "\n",
        "# read more about SGDClassifier() at http://scikit-learn.org/stable/modules/generated/sklearn.linear_model.SGDClassifier.html\n",
        "# ------------------------------\n",
        "# default parameters\n",
        "# SGDClassifier(loss=’hinge’, penalty=’l2’, alpha=0.0001, l1_ratio=0.15, fit_intercept=True, max_iter=None, tol=None, \n",
        "# shuffle=True, verbose=0, epsilon=0.1, n_jobs=1, random_state=None, learning_rate=’optimal’, eta0=0.0, power_t=0.5, \n",
        "# class_weight=None, warm_start=False, average=False, n_iter=None)\n",
        "\n",
        "# some of methods\n",
        "# fit(X, y[, coef_init, intercept_init, …])\tFit linear model with Stochastic Gradient Descent.\n",
        "# predict(X)\tPredict class labels for samples in X.\n",
        "\n",
        "#-------------------------------\n",
        "# video link: \n",
        "#------------------------------\n",
        "\n",
        "\n",
        "log_error_array=[]\n",
        "for i in alpha:\n",
        "    clf = SGDClassifier(alpha=i, penalty='l1', loss='hinge', random_state=42)\n",
        "    clf.fit(X_train, y_train)\n",
        "    sig_clf = CalibratedClassifierCV(clf, method=\"sigmoid\")\n",
        "    sig_clf.fit(X_train, y_train)\n",
        "    predict_y = sig_clf.predict_proba(X_test)\n",
        "    log_error_array.append(log_loss(y_test, predict_y, labels=clf.classes_, eps=1e-15))\n",
        "    print('For values of alpha = ', i, \"The log loss is:\",log_loss(y_test, predict_y, labels=clf.classes_, eps=1e-15))\n",
        "\n",
        "fig, ax = plt.subplots()\n",
        "ax.plot(alpha, log_error_array,c='g')\n",
        "for i, txt in enumerate(np.round(log_error_array,3)):\n",
        "    ax.annotate((alpha[i],np.round(txt,3)), (alpha[i],log_error_array[i]))\n",
        "plt.grid()\n",
        "plt.title(\"Cross Validation Error for each alpha\")\n",
        "plt.xlabel(\"Alpha i's\")\n",
        "plt.ylabel(\"Error measure\")\n",
        "plt.show()\n",
        "\n",
        "\n",
        "best_alpha = np.argmin(log_error_array)\n",
        "clf = SGDClassifier(alpha=alpha[best_alpha], penalty='l1', loss='hinge', random_state=42)\n",
        "clf.fit(X_train, y_train)\n",
        "sig_clf = CalibratedClassifierCV(clf, method=\"sigmoid\")\n",
        "sig_clf.fit(X_train, y_train)\n",
        "\n",
        "predict_y = sig_clf.predict_proba(X_train)\n",
        "print('For values of best alpha = ', alpha[best_alpha], \"The train log loss is:\",log_loss(y_train, predict_y, labels=clf.classes_, eps=1e-15))\n",
        "predict_y = sig_clf.predict_proba(X_test)\n",
        "print('For values of best alpha = ', alpha[best_alpha], \"The test log loss is:\",log_loss(y_test, predict_y, labels=clf.classes_, eps=1e-15))\n",
        "predicted_y =np.argmax(predict_y,axis=1)\n",
        "print(\"Total number of data points :\", len(predicted_y))\n",
        "plot_confusion_matrix(y_test, predicted_y)"
      ],
      "execution_count": 15,
      "outputs": [
        {
          "output_type": "stream",
          "text": [
            "For values of alpha =  1e-05 The log loss is: 0.658062695239062\n",
            "For values of alpha =  0.0001 The log loss is: 0.658062695239062\n",
            "For values of alpha =  0.001 The log loss is: 0.658062695239062\n",
            "For values of alpha =  0.01 The log loss is: 0.6211749296265459\n",
            "For values of alpha =  0.1 The log loss is: 0.6008648649617063\n",
            "For values of alpha =  1 The log loss is: 0.6369542377808138\n",
            "For values of alpha =  10 The log loss is: 0.6530788271202652\n"
          ],
          "name": "stdout"
        },
        {
          "output_type": "display_data",
          "data": {
            "image/png": "[encoded data removed]",
            "text/plain": [
              "<Figure size 432x288 with 1 Axes>"
            ]
          },
          "metadata": {
            "tags": [],
            "needs_background": "light"
          }
        },
        {
          "output_type": "stream",
          "text": [
            "For values of best alpha =  0.1 The train log loss is: 0.5952448236826533\n",
            "For values of best alpha =  0.1 The test log loss is: 0.6008648649617063\n",
            "Total number of data points : 6000\n"
          ],
          "name": "stdout"
        },
        {
          "output_type": "display_data",
          "data": {
            "image/png": "[encoded data removed]",
            "text/plain": [
              "<Figure size 1440x288 with 6 Axes>"
            ]
          },
          "metadata": {
            "tags": [],
            "needs_background": "light"
          }
        }
      ]
    },
    {
      "cell_type": "markdown",
      "metadata": {
        "colab_type": "text",
        "id": "ZhTJgclztAS6"
      },
      "source": [
        "<h2> 4.6 XGBoost </h2>"
      ]
    },
    {
      "cell_type": "code",
      "metadata": {
        "colab_type": "code",
        "id": "9U367-xetAS7",
        "colab": {
          "base_uri": "https://localhost:8080/",
          "height": 773
        },
        "outputId": "af221880-f403-4314-bb06-e5c3878010c1"
      },
      "source": [
        "import xgboost as xgb\n",
        "params = {}\n",
        "params['objective'] = 'binary:logistic'\n",
        "params['eval_metric'] = 'logloss'\n",
        "params['eta'] = 0.02\n",
        "params['max_depth'] = 4\n",
        "\n",
        "d_train = xgb.DMatrix(X_train, label=y_train)\n",
        "d_test = xgb.DMatrix(X_test, label=y_test)\n",
        "\n",
        "watchlist = [(d_train, 'train'), (d_test, 'valid')]\n",
        "\n",
        "bst = xgb.train(params, d_train, 400, watchlist, early_stopping_rounds=20, verbose_eval=10)\n",
        "\n",
        "xgdmat = xgb.DMatrix(X_train,y_train)\n",
        "predict_y = bst.predict(d_test)\n",
        "print(\"The test log loss is:\",log_loss(y_test, predict_y, labels=clf.classes_, eps=1e-15))"
      ],
      "execution_count": 16,
      "outputs": [
        {
          "output_type": "stream",
          "text": [
            "[0]\ttrain-logloss:0.684688\tvalid-logloss:0.684851\n",
            "Multiple eval metrics have been passed: 'valid-logloss' will be used for early stopping.\n",
            "\n",
            "Will train until valid-logloss hasn't improved in 20 rounds.\n",
            "[10]\ttrain-logloss:0.614477\tvalid-logloss:0.616287\n",
            "[20]\ttrain-logloss:0.563165\tvalid-logloss:0.566383\n",
            "[30]\ttrain-logloss:0.523959\tvalid-logloss:0.528204\n",
            "[40]\ttrain-logloss:0.493931\tvalid-logloss:0.499174\n",
            "[50]\ttrain-logloss:0.470374\tvalid-logloss:0.47657\n",
            "[60]\ttrain-logloss:0.451299\tvalid-logloss:0.458504\n",
            "[70]\ttrain-logloss:0.435911\tvalid-logloss:0.444087\n",
            "[80]\ttrain-logloss:0.423117\tvalid-logloss:0.431993\n",
            "[90]\ttrain-logloss:0.41254\tvalid-logloss:0.422122\n",
            "[100]\ttrain-logloss:0.403587\tvalid-logloss:0.413839\n",
            "[110]\ttrain-logloss:0.396028\tvalid-logloss:0.406926\n",
            "[120]\ttrain-logloss:0.389669\tvalid-logloss:0.40145\n",
            "[130]\ttrain-logloss:0.38419\tvalid-logloss:0.396761\n",
            "[140]\ttrain-logloss:0.379274\tvalid-logloss:0.393019\n",
            "[150]\ttrain-logloss:0.374947\tvalid-logloss:0.389661\n",
            "[160]\ttrain-logloss:0.371267\tvalid-logloss:0.387066\n",
            "[170]\ttrain-logloss:0.367788\tvalid-logloss:0.38452\n",
            "[180]\ttrain-logloss:0.36456\tvalid-logloss:0.382426\n",
            "[190]\ttrain-logloss:0.361412\tvalid-logloss:0.380424\n",
            "[200]\ttrain-logloss:0.358677\tvalid-logloss:0.378964\n",
            "[210]\ttrain-logloss:0.355898\tvalid-logloss:0.377245\n",
            "[220]\ttrain-logloss:0.353114\tvalid-logloss:0.375593\n",
            "[230]\ttrain-logloss:0.350482\tvalid-logloss:0.373944\n",
            "[240]\ttrain-logloss:0.347788\tvalid-logloss:0.37256\n",
            "[250]\ttrain-logloss:0.345249\tvalid-logloss:0.371263\n",
            "[260]\ttrain-logloss:0.342812\tvalid-logloss:0.370292\n",
            "[270]\ttrain-logloss:0.340252\tvalid-logloss:0.369434\n",
            "[280]\ttrain-logloss:0.33776\tvalid-logloss:0.368402\n",
            "[290]\ttrain-logloss:0.335202\tvalid-logloss:0.367536\n",
            "[300]\ttrain-logloss:0.332914\tvalid-logloss:0.366947\n",
            "[310]\ttrain-logloss:0.330744\tvalid-logloss:0.366244\n",
            "[320]\ttrain-logloss:0.328667\tvalid-logloss:0.365843\n",
            "[330]\ttrain-logloss:0.326344\tvalid-logloss:0.365302\n",
            "[340]\ttrain-logloss:0.324156\tvalid-logloss:0.364725\n",
            "[350]\ttrain-logloss:0.321735\tvalid-logloss:0.364289\n",
            "[360]\ttrain-logloss:0.31965\tvalid-logloss:0.363732\n",
            "[370]\ttrain-logloss:0.317716\tvalid-logloss:0.363395\n",
            "[380]\ttrain-logloss:0.315612\tvalid-logloss:0.363148\n",
            "[390]\ttrain-logloss:0.313715\tvalid-logloss:0.362614\n",
            "[399]\ttrain-logloss:0.312172\tvalid-logloss:0.362291\n",
            "The test log loss is: 0.3622905343963939\n"
          ],
          "name": "stdout"
        }
      ]
    },
    {
      "cell_type": "code",
      "metadata": {
        "colab_type": "code",
        "id": "6U5b17AatAS_",
        "colab": {
          "base_uri": "https://localhost:8080/",
          "height": 304
        },
        "outputId": "ea3bd202-9932-41ce-9baf-bb9a80b49ef2"
      },
      "source": [
        "predicted_y =np.array(predict_y>0.5,dtype=int)\n",
        "print(\"Total number of data points :\", len(predicted_y))\n",
        "plot_confusion_matrix(y_test, predicted_y)"
      ],
      "execution_count": 17,
      "outputs": [
        {
          "output_type": "stream",
          "text": [
            "Total number of data points : 6000\n"
          ],
          "name": "stdout"
        },
        {
          "output_type": "display_data",
          "data": {
            "image/png": "[encoded data removed]",
            "text/plain": [
              "<Figure size 1440x288 with 6 Axes>"
            ]
          },
          "metadata": {
            "tags": [],
            "needs_background": "light"
          }
        }
      ]
    },
    {
      "cell_type": "markdown",
      "metadata": {
        "id": "7-ZKX2vfQktx",
        "colab_type": "text"
      },
      "source": [
        "<h5>After trying the above models I managed to arrive at a log loss value of 0.3622905343963939.I will try to improve these meterics further in future implementing other model maybe a neural network, and try different hyperparameter tuning on it.</h5>"
      ]
    }
  ]
}